{
 "cells": [
  {
   "cell_type": "code",
   "execution_count": 9,
   "metadata": {
    "collapsed": false
   },
   "outputs": [
    {
     "ename": "TypeError",
     "evalue": "make_path() takes exactly 5 arguments (4 given)",
     "output_type": "error",
     "traceback": [
      "\u001b[0;31m---------------------------------------------------------------------------\u001b[0m",
      "\u001b[0;31mTypeError\u001b[0m                                 Traceback (most recent call last)",
      "\u001b[0;32m<ipython-input-9-f9efe29a3eb9>\u001b[0m in \u001b[0;36m<module>\u001b[0;34m()\u001b[0m\n\u001b[1;32m    162\u001b[0m \u001b[0;34m\u001b[0m\u001b[0m\n\u001b[1;32m    163\u001b[0m \u001b[0;31m#path = make_path(start_lat, start_lng, end_lat, end_lng)\u001b[0m\u001b[0;34m\u001b[0m\u001b[0;34m\u001b[0m\u001b[0m\n\u001b[0;32m--> 164\u001b[0;31m \u001b[0mpath\u001b[0m \u001b[0;34m=\u001b[0m \u001b[0mcrawl_path\u001b[0m\u001b[0;34m(\u001b[0m\u001b[0mstart_lat\u001b[0m\u001b[0;34m,\u001b[0m \u001b[0mstart_lng\u001b[0m\u001b[0;34m,\u001b[0m \u001b[0mbar_lat\u001b[0m\u001b[0;34m,\u001b[0m \u001b[0mbar_lng\u001b[0m\u001b[0;34m,\u001b[0m \u001b[0mend_lat\u001b[0m\u001b[0;34m,\u001b[0m \u001b[0mend_lng\u001b[0m\u001b[0;34m)\u001b[0m\u001b[0;34m\u001b[0m\u001b[0m\n\u001b[0m",
      "\u001b[0;32m<ipython-input-9-f9efe29a3eb9>\u001b[0m in \u001b[0;36mcrawl_path\u001b[0;34m(start_lat, start_lng, bar_lat, bar_lng, end_lat, end_lng)\u001b[0m\n\u001b[1;32m    112\u001b[0m \u001b[0;34m\u001b[0m\u001b[0m\n\u001b[1;32m    113\u001b[0m \u001b[0;32mdef\u001b[0m \u001b[0mcrawl_path\u001b[0m\u001b[0;34m(\u001b[0m\u001b[0mstart_lat\u001b[0m\u001b[0;34m,\u001b[0m \u001b[0mstart_lng\u001b[0m\u001b[0;34m,\u001b[0m \u001b[0mbar_lat\u001b[0m\u001b[0;34m,\u001b[0m \u001b[0mbar_lng\u001b[0m\u001b[0;34m,\u001b[0m \u001b[0mend_lat\u001b[0m\u001b[0;34m,\u001b[0m \u001b[0mend_lng\u001b[0m\u001b[0;34m)\u001b[0m\u001b[0;34m:\u001b[0m\u001b[0;34m\u001b[0m\u001b[0m\n\u001b[0;32m--> 114\u001b[0;31m         \u001b[0mpath1\u001b[0m \u001b[0;34m=\u001b[0m \u001b[0mmake_path\u001b[0m\u001b[0;34m(\u001b[0m\u001b[0mstart_lat\u001b[0m\u001b[0;34m,\u001b[0m \u001b[0mstart_lng\u001b[0m\u001b[0;34m,\u001b[0m \u001b[0mbar_lat\u001b[0m\u001b[0;34m,\u001b[0m \u001b[0mbar_lng\u001b[0m\u001b[0;34m)\u001b[0m\u001b[0;34m\u001b[0m\u001b[0m\n\u001b[0m\u001b[1;32m    115\u001b[0m         \u001b[0mpath2\u001b[0m \u001b[0;34m=\u001b[0m \u001b[0mmake_path\u001b[0m\u001b[0;34m(\u001b[0m\u001b[0mbar_lat\u001b[0m\u001b[0;34m,\u001b[0m \u001b[0mbar_lng\u001b[0m\u001b[0;34m,\u001b[0m \u001b[0mend_lat\u001b[0m\u001b[0;34m,\u001b[0m \u001b[0mend_lng\u001b[0m\u001b[0;34m)\u001b[0m\u001b[0;34m\u001b[0m\u001b[0m\n\u001b[1;32m    116\u001b[0m         \u001b[0;32mreturn\u001b[0m \u001b[0mpath1\u001b[0m\u001b[0;34m,\u001b[0m \u001b[0mpath2\u001b[0m\u001b[0;34m\u001b[0m\u001b[0m\n",
      "\u001b[0;31mTypeError\u001b[0m: make_path() takes exactly 5 arguments (4 given)"
     ]
    }
   ],
   "source": [
    "#!/opt/local/bin/python\n",
    "\n",
    "import MySQLdb\n",
    "import networkx as nx\n",
    "import matplotlib.pylab as plt\n",
    "from geopy.distance import great_circle\n",
    "from geopy.geocoders import Nominatim \n",
    "import folium\n",
    "\n",
    "# DEFINE SQL LOG IN \n",
    "HOST = 'localhost'\n",
    "USER = 'root'\n",
    "PASSWD = ''\n",
    "DATABASE = 'bk_map'\n",
    "\n",
    "#CONNECT TO MySQL\n",
    "db_connect = MySQLdb.connect(\n",
    "\thost = HOST,\n",
    "\tuser = USER,\n",
    "\tpasswd = PASSWD,\n",
    "\tdb = DATABASE)\n",
    "\n",
    "cur = db_connect.cursor()\n",
    "\n",
    "def nearest_node(lat_input, lon_input):\n",
    "    dis_near=0.05\n",
    "    find_nearby_nodes = ('''SELECT nodeid, latitude, longitude FROM bk_nodes \n",
    "                WHERE latitude BETWEEN %s AND %s\n",
    "                AND longitude BETWEEN %s AND %s\n",
    "                ''')\n",
    "    node_range = (lat_input-dis_near, lat_input+dis_near, lon_input-dis_near, lon_input+dis_near)\n",
    "\n",
    "    cur.execute(find_nearby_nodes,node_range)  \n",
    "    rows = cur.fetchall()\n",
    "    if len(rows) == 0:\n",
    "        return 'NULL'\n",
    "    #for row in rows:\n",
    "    else:\n",
    "        dist = [rows[0][0],great_circle((lat_input,lon_input),rows[0][1:3]).miles ]\n",
    "        for row in rows[1:]:\n",
    "            node_dist =  great_circle((lat_input,lon_input),row[1:3]).miles\n",
    "            if dist[1] > node_dist:\n",
    "                dist = [row[0],node_dist]\n",
    "        return dist[0]\n",
    "\n",
    "def gen_network(node_dic, edge_dic):\n",
    "\tG = nx.Graph()\n",
    "\tfor d in node_dic:\n",
    " \t\tG.add_node(d)\n",
    "\t\n",
    "\tfor e in edge_dic:\n",
    "\t\tG.add_edge(str(edge_dic[e][0]),str(edge_dic[e][1]), weight = edge_dic[e][2])\n",
    "\n",
    "\t#print 'NODES: ', G.number_of_nodes()\n",
    "\t#print 'EDGES: ', G.number_of_edges()\n",
    "\treturn G\n",
    "\n",
    "def ReadNodefromSQL():\n",
    "\t#fetch data for nodes and edges\n",
    "\tcur.execute('''SELECT nodeid, latitude, longitude FROM bk_nodes\n",
    "                ''')  \n",
    "\tnodes_sql = cur.fetchall()\n",
    "\treturn nodes_sql\n",
    "\n",
    "def ReadEdgefromSQL():\n",
    "\tcur.execute('''SELECT edgeid, node1, node2, weight FROM bk_weights_acc_nn\n",
    "                ''')  \n",
    "\tedge_sql = cur.fetchall()\n",
    "\treturn edge_sql\n",
    "\n",
    "def NodeSQLtoDic(nodes_sql):\n",
    "\tnode_dic = {}\n",
    "\tfor node in nodes_sql:\n",
    "\t\tnode_dic[str(node[0])] = str(node[1]) ,str(node[2]) \n",
    "\treturn node_dic\n",
    "\n",
    "def EdgeDQLtoDic(edge_sql):\n",
    "\tedge_dic = {}\n",
    "\tfor edge in edge_sql:\n",
    "\t\tedge_dic[edge[0]]= edge[1:]\n",
    "\treturn edge_dic\n",
    "\n",
    "\n",
    "def make_path(start_lat, start_lng, end_lat, end_lng, G):\n",
    "#INPUT \n",
    "\tstart = nearest_node(start_lat,start_lng)\n",
    "\tend = nearest_node(end_lat, end_lng)\n",
    "#exeption!!\n",
    "\t#nx.has_path(G,start,end)\n",
    "\treturn nx.shortest_path(G,source = start, target = end, weight='weight'), nx.shortest_path_length(G,source = start, target = end, weight='weight')#\n",
    "\t \n",
    "\n",
    "def plot_path(node_dic, path_nodes):\n",
    "\tfor d in node_dic:\n",
    "\t\tplt.scatter(node_dic[d][0],node_dic[d][1])\n",
    "    \n",
    "\tnode_list = []\n",
    "\n",
    "\tfor p in path_nodes[0]:\n",
    "\t\tnode_list.append(node_dic[str(p)]) \n",
    "            \n",
    "\t\tplt.plot(*zip(*node_list), color='g')\n",
    "\n",
    "\tnode_list = []\n",
    "\tfor p in path_nodes[1]:\n",
    "\t\tnode_list.append(node_dic[str(p)])\n",
    "\n",
    "\t\tplt.plot(*zip(*node_list), color='r')\n",
    "\n",
    "\tplt.show()\n",
    "\treturn\n",
    "\n",
    "def crawl_path(start_lat, start_lng, bar_lat, bar_lng, end_lat, end_lng):\n",
    "\tpath1 = make_path(start_lat, start_lng, bar_lat, bar_lng)\n",
    "\tpath2 = make_path(bar_lat, bar_lng, end_lat, end_lng)\n",
    "\treturn path1, path2\n",
    "\n",
    "def close_db():\n",
    "\tcur.close()\n",
    "\tdb_connect.close()\n",
    "\n",
    "#ACTUAL PROGRAM\n",
    "\n",
    "\n",
    "\n",
    "geolocator = Nominatim()\n",
    "\n",
    "location = geolocator.geocode(\"Atlantic Terminal, Brooklyn\")\n",
    "start_lat, start_lng = location.latitude, location.longitude\n",
    "\n",
    "\n",
    "location = geolocator.geocode(\"82 4th Ave, Brooklyn\")\n",
    "bar_lat, bar_lng = location.latitude, location.longitude\n",
    "\n",
    "location = geolocator.geocode(\"218 Myrtle Ave, Brooklyn\")\n",
    "end_lat, end_lng = location.latitude, location.longitude\n",
    "\n",
    "#max_lat = max([start_lat,bar_lat, end_lat])\n",
    "#max_lng = max([start_lng,bar_lng, end_lng])\n",
    "\n",
    "#min_lat = min([start_lat,bar_lat, end_lat])\n",
    "#min_lng = min([start_lng,bar_lng, end_lng])\n",
    "\n",
    "#print min_lat, max_lat\n",
    "#print min_lng, max_lng\n",
    "\n",
    "node_sql = ReadNodefromSQL()\n",
    "edge_sql = ReadEdgefromSQL()\n",
    "\n",
    "node_dic = NodeSQLtoDic(node_sql)\n",
    "edge_dic = EdgeDQLtoDic(edge_sql)\n",
    "G = gen_network(node_dic, edge_dic)\n",
    "\n",
    "\n",
    "\n",
    "#start_lat = 40.6868 \n",
    "#start_lng = -73.9824\n",
    "#bar_lat =40.68200000 \n",
    "#bar_lng = -73.98020000\n",
    "#end_lat = 40.67430000 \n",
    "#end_lng = -73.99540000\n",
    "\n",
    "#path = make_path(start_lat, start_lng, end_lat, end_lng)\n",
    "path = crawl_path(start_lat, start_lng, bar_lat, bar_lng, end_lat, end_lng)"
   ]
  },
  {
   "cell_type": "code",
   "execution_count": null,
   "metadata": {
    "collapsed": true
   },
   "outputs": [],
   "source": [
    "cur.execute(\"\"\"SELECT id, latitude, longitude , n_ped_inj  \n",
    "    FROM bk_trafficaccidents \n",
    "    WHERE n_ped_inj > 0\n",
    "    AND date BETWEEN '2014-09-01' AND '2015-09-01'\n",
    "    \"\"\")\n",
    "accidents_sql = cur.fetchall()\n",
    "\n"
   ]
  },
  {
   "cell_type": "code",
   "execution_count": 116,
   "metadata": {
    "collapsed": false
   },
   "outputs": [],
   "source": [
    "accidents_sql[1]\n",
    "accidents_dic = {}\n",
    "accident_loc = []\n",
    "for accident in accidents_sql:\n",
    "    accidents_dic[accident[0]] = accident[1:]\n",
    "    accident_loc.append(accident[1:3])\n",
    "#from sklearn.neighbors import KernelDensity"
   ]
  },
  {
   "cell_type": "code",
   "execution_count": 117,
   "metadata": {
    "collapsed": false
   },
   "outputs": [
    {
     "name": "stdout",
     "output_type": "stream",
     "text": [
      "[[[40.684052, -73.977457], [40.6843767, -73.978278], [40.6837417, -73.978684], [40.6831067, -73.979106], [40.6824707, -73.9795607], [40.6825127, -73.9796725], [40.6818815, -73.9800945]], [[40.6818815, -73.9800945], [40.6812492, -73.980523], [40.6806157, -73.9809537], [40.6799801, -73.9813841], [40.68088, -73.983711], [40.681642, -73.985672], [40.68228, -73.985231], [40.682909, -73.984797], [40.683543, -73.984375], [40.684389, -73.986564], [40.685024, -73.9861337], [40.68566, -73.985689], [40.686504, -73.987859], [40.687365, -73.990035], [40.687959, -73.991509], [40.688571, -73.991094], [40.689135, -73.9906813], [40.6890931, -73.9905478], [40.6894849, -73.9902371], [40.6896947, -73.9900635], [40.6903275, -73.9896421], [40.6909681, -73.9892198], [40.6920881, -73.988932], [40.6923017, -73.9889003], [40.6924248, -73.9888886], [40.6928067, -73.9887616], [40.6931979, -73.9887289], [40.6933876, -73.9887173], [40.6944204, -73.9886543], [40.6950184, -73.9886116], [40.696094, -73.9885539], [40.6962943, -73.9885461], [40.6962386, -73.9870988], [40.69613, -73.9846747], [40.6961273, -73.9844509], [40.6959338, -73.9843465], [40.6959236, -73.9841084], [40.6958997, -73.9832003], [40.6958747, -73.9824065], [40.6958741, -73.9823322], [40.6958369, -73.9814244], [40.695494, -73.98116], [40.695476, -73.980728], [40.6954591, -73.9802565], [40.6938534, -73.979342], [40.6935047, -73.9791839]]]\n"
     ]
    }
   ],
   "source": [
    "#accidents_dic\n",
    "\n",
    "line_paths = []\n",
    "for pa in path:\n",
    "    line = []\n",
    "    for node in pa:\n",
    "        line.append([float(node_dic[node][0]), float(node_dic[node][1])])\n",
    "    line_paths.append(line)\n",
    "        \n",
    "print line_paths"
   ]
  },
  {
   "cell_type": "code",
   "execution_count": 66,
   "metadata": {
    "collapsed": false
   },
   "outputs": [],
   "source": [
    "#custom = folium.Map(location=[45.5236, -122.6750], tiles='Mapbox', API_key='wrobstory.map-12345678')\n",
    "\n",
    "map_osm = folium.Map(location=[40.6928, -73.990340], width=500, height = 300)\n",
    "map_osm.polygon_marker(location=[start_lat, start_lng], popup='Starting Point',\n",
    "                     fill_color='#132b5e', num_sides=3, radius=10)\n",
    "map_osm.polygon_marker(location=[bar_lat, bar_lng], popup='Bar',\n",
    "                     fill_color='#45647d', num_sides=4, radius=10)\n",
    "map_osm.polygon_marker(location=[end_lat, end_lng], popup='Ending Point',\n",
    "                     fill_color='#769d96', num_sides=6, radius=10)\n",
    "\n",
    "for accident in accident_loc:\n",
    "    #print accident\n",
    "    map_osm.circle_marker(location=accident, fill_color='#000000', radius=2)\n",
    "    \n",
    "for path in line_paths:\n",
    "    map_osm.line(path, line_color='#FF0000', line_weight=5)\n",
    "    \n",
    "map_osm.create_map(path='accidents1.html')\n"
   ]
  },
  {
   "cell_type": "code",
   "execution_count": 80,
   "metadata": {
    "collapsed": false
   },
   "outputs": [],
   "source": [
    "map_osm = folium.Map(location=[40.684901, -73.977680], width=500, height = 300, zoom_start=14)\n",
    "for node in node_dic:\n",
    "    map_osm.circle_marker(location=node_dic[node], fill_color='#000000', radius=1)\n",
    "map_osm.create_map(path='nodes.html')"
   ]
  },
  {
   "cell_type": "code",
   "execution_count": 118,
   "metadata": {
    "collapsed": true
   },
   "outputs": [],
   "source": [
    "map_osm = folium.Map(location=[40.684901, -73.977680], width=500, height = 300, zoom_start=14)\n",
    "for accident in accident_loc:\n",
    "    #print accident\n",
    "    map_osm.circle_marker(location=accident, line_color='#FF3300', radius=3)\n",
    "map_osm.create_map(path='justaccidents.html')"
   ]
  },
  {
   "cell_type": "code",
   "execution_count": 64,
   "metadata": {
    "collapsed": true
   },
   "outputs": [],
   "source": [
    "def path_node_line(path, node_dic):\n",
    "    line_paths = []\n",
    "    for pa in path:\n",
    "        line=[]\n",
    "        for node in pa:\n",
    "            line.append([node_dic[node][0],node_dic[node][1]])\n",
    "        line_paths.append(line)\n",
    "    return line_paths"
   ]
  },
  {
   "cell_type": "code",
   "execution_count": 113,
   "metadata": {
    "collapsed": false,
    "scrolled": true
   },
   "outputs": [
    {
     "name": "stdout",
     "output_type": "stream",
     "text": [
      "[[[40.684052, -73.977457], [40.6843767, -73.978278], [40.6837417, -73.978684], [40.6831067, -73.979106], [40.6824707, -73.9795607], [40.6825127, -73.9796725], [40.6818815, -73.9800945]], [[40.6818815, -73.9800945], [40.6812492, -73.980523], [40.6806157, -73.9809537], [40.6799801, -73.9813841], [40.68088, -73.983711], [40.681642, -73.985672], [40.68228, -73.985231], [40.682909, -73.984797], [40.683543, -73.984375], [40.684389, -73.986564], [40.685024, -73.9861337], [40.68566, -73.985689], [40.686504, -73.987859], [40.687365, -73.990035], [40.687959, -73.991509], [40.688571, -73.991094], [40.689135, -73.9906813], [40.6890931, -73.9905478], [40.6894849, -73.9902371], [40.6896947, -73.9900635], [40.6903275, -73.9896421], [40.6909681, -73.9892198], [40.6920881, -73.988932], [40.6923017, -73.9889003], [40.6924248, -73.9888886], [40.6928067, -73.9887616], [40.6931979, -73.9887289], [40.6933876, -73.9887173], [40.6944204, -73.9886543], [40.6950184, -73.9886116], [40.696094, -73.9885539], [40.6962943, -73.9885461], [40.6962386, -73.9870988], [40.69613, -73.9846747], [40.6961273, -73.9844509], [40.6959338, -73.9843465], [40.6959236, -73.9841084], [40.6958997, -73.9832003], [40.6958747, -73.9824065], [40.6958741, -73.9823322], [40.6958369, -73.9814244], [40.695494, -73.98116], [40.695476, -73.980728], [40.6954591, -73.9802565], [40.6938534, -73.979342], [40.6935047, -73.9791839]]]\n"
     ]
    }
   ],
   "source": [
    "path = crawl_path(start_lat, start_lng, bar_lat, bar_lng, end_lat, end_lng)\n",
    "#path_node_list(path[1], node_dic)\n",
    "line_paths = []\n",
    "for pa in path:\n",
    "    line=[]\n",
    "    for node in pa:\n",
    "        line.append([float(node_dic[node][0]),float(node_dic[node][1])])\n",
    "    line_paths.append(line)\n",
    "print line_paths"
   ]
  },
  {
   "cell_type": "code",
   "execution_count": 120,
   "metadata": {
    "collapsed": false
   },
   "outputs": [],
   "source": [
    "close_db()"
   ]
  },
  {
   "cell_type": "code",
   "execution_count": 82,
   "metadata": {
    "collapsed": false
   },
   "outputs": [
    {
     "name": "stdout",
     "output_type": "stream",
     "text": [
      "['S', 'B1', 'B3', 'B4', 'B5', 'B2', 'E']\n",
      "has a distance of\n",
      "6.76138288\n",
      "[[['40.686721', '-73.982232'], ['40.685959', '-73.980272'], ['40.686641', '-73.9798125'], ['40.6866757', '-73.9793577'], ['40.686713', '-73.979057'], ['40.68682', '-73.978208'], ['40.686919', '-73.977361'], ['40.686994', '-73.976545'], ['40.687025', '-73.976206'], ['40.686757', '-73.97552']], [['40.686757', '-73.97552'], ['40.687086', '-73.97559'], ['40.689737', '-73.976102'], ['40.689698', '-73.975106'], ['40.6899975', '-73.9750673'], ['40.6900944', '-73.9747461'], ['40.6904598', '-73.9746921'], ['40.6908661', '-73.9746941'], ['40.6911358', '-73.9745235'], ['40.6914294', '-73.9740166'], ['40.6917117', '-73.9739184'], ['40.691707', '-73.97354'], ['40.69168', '-73.972553'], ['40.6932527', '-73.972851'], ['40.6935217', '-73.972919']], [['40.6935217', '-73.972919'], ['40.6932527', '-73.972851'], ['40.69321', '-73.971872'], ['40.693172', '-73.970859'], ['40.693135', '-73.969831'], ['40.693114', '-73.9688092']], [['40.693114', '-73.9688092'], ['40.69323', '-73.967844'], ['40.691643', '-73.967531'], ['40.689561', '-73.967115'], ['40.689673', '-73.966135'], ['40.688209', '-73.965822'], ['40.688326', '-73.96481'], ['40.6875863', '-73.9646489'], ['40.6868704', '-73.964503'], ['40.684668', '-73.964033'], ['40.682807', '-73.963664'], ['40.681869', '-73.963474'], ['40.6809304', '-73.9632889'], ['40.6805389', '-73.9613193'], ['40.6798808', '-73.9582464'], ['40.6797594', '-73.9583069'], ['40.6791226', '-73.9552708'], ['40.678343', '-73.955195'], ['40.677576', '-73.955475'], ['40.6768059', '-73.9557316']], [['40.6768059', '-73.9557316'], ['40.6775129', '-73.9591066'], ['40.6781649', '-73.9622116'], ['40.6785159', '-73.9638836'], ['40.6788169', '-73.9653236'], ['40.6789067', '-73.9657796'], ['40.6794186', '-73.9682267'], ['40.680083', '-73.9714087'], ['40.6807332', '-73.9745104'], ['40.680834', '-73.9751286'], ['40.6814862', '-73.9770285'], ['40.6824707', '-73.9795607'], ['40.6825127', '-73.9796725'], ['40.6818815', '-73.9800945']], [['40.6818815', '-73.9800945'], ['40.6812492', '-73.980523'], ['40.6806157', '-73.9809537'], ['40.6799801', '-73.9813841'], ['40.6793451', '-73.9818151'], ['40.6787133', '-73.9822426'], ['40.6780796', '-73.9826708'], ['40.6774572', '-73.9831185'], ['40.6768088', '-73.9835323'], ['40.6761775', '-73.9839639'], ['40.6757993', '-73.984257'], ['40.6752093', '-73.9847559'], ['40.6746029', '-73.9852632'], ['40.6740018', '-73.9857613'], ['40.6721973', '-73.9872649'], ['40.67327', '-73.989511'], ['40.674411', '-73.99187'], ['40.673813', '-73.992369'], ['40.672604', '-73.993379'], ['40.6735747', '-73.9954363']]]\n",
      "0:00:05.980164\n"
     ]
    }
   ],
   "source": [
    "from datetime import datetime\n",
    "startTime = datetime.now()\n",
    "\n",
    "#start_lat = 40.6868 \n",
    "#start_lng = -73.9824\n",
    "#bar_lat =40.68200000 \n",
    "#bar_lng =  -73.98020000\n",
    "#end_lat = 40.67430000 \n",
    "#end_lng = -73.99540000\n",
    "\n",
    "start_tuple = (40.6868, -73.9824)\n",
    "bar_tuple_list = [( 40.68680000, -73.97510000),(40.68200000, -73.98020000),( 40.69340000, -73.97300000), ( 40.69330000,-73.96910000),(40.67720000, -73.95740000)]\n",
    "end_tuple = (40.67430000,-73.99540000)\n",
    "#end_tuple = start_tuple\n",
    "#generate graph including points and locations\n",
    "#define location dictionary of crawl\n",
    "crawl = {}\n",
    "crawl['S'] = start_tuple \n",
    "if start_tuple == end_tuple:\n",
    "    start = 'S'\n",
    "    end ='S'\n",
    "    pass\n",
    "elif end_tuple!=start_tuple:\n",
    "    crawl['E'] = end_tuple\n",
    "    start = 'S'\n",
    "    end = 'E'\n",
    "i=1\n",
    "for bar in bar_tuple_list:\n",
    "    crawl['B'+str(i)]= bar\n",
    "    i+=1\n",
    "#print crawl\n",
    "#loop through all combinations of nodes to find distances\n",
    "crawl_edge = {}\n",
    "for loc1 in crawl:\n",
    "    for loc2 in crawl:\n",
    "        if loc1 == loc2:\n",
    "            pass\n",
    "        else:\n",
    "            #print crawl[loc1][0], crawl[loc1][1], crawl[loc2][0],crawl[loc2][1]\n",
    "            dist = make_path (crawl[loc1][0], crawl[loc1][1], crawl[loc2][0],crawl[loc2][1],G)\n",
    "            crawl_edge[loc1+loc2] = loc1, loc2, dist[1], dist[0]\n",
    "            \n",
    "G_crawl = gen_network(crawl, crawl_edge)\n",
    "\n",
    "distances = []\n",
    "\n",
    "\n",
    "for path in nx.all_simple_paths(G_crawl, source= start , target = end, cutoff = len(bar_tuple_list)+2):\n",
    "    #we only want the longest ones\n",
    "    if(len(path)==len(bar_tuple_list)+2):\n",
    "        distance=0\n",
    "        #add up the weights for each edge\n",
    "        for i in range(0,len(path)-1):\n",
    "            distance=distance+G_crawl[path[i]][path[i+1]]['weight']\n",
    "            #add these to a list\n",
    "        distances.append((distance,path))\n",
    "            \n",
    "#defaults\n",
    "min_dist=distances[0];\n",
    "min_path=[]\n",
    "\n",
    "#find the min distance\n",
    "for dist in distances:\n",
    "    if(dist[0]<=min_dist):\n",
    "        min_dist=dist[0]\n",
    "        min_path=dist[1]\n",
    "\n",
    "\n",
    "route = []\n",
    "for i in range(0,len(min_path)-1):\n",
    "    route.append(crawl_edge[min_path[i]+min_path[i+1]][3])\n",
    "\n",
    "line_paths = path_node_line(route, node_dic)\n",
    "\n",
    "\n",
    "print(min_path)\n",
    "print(\"has a distance of\")\n",
    "print(min_dist)\n",
    "#print (route) #nodes\n",
    "print (line_paths) #lat and lng of nodes\n",
    "\n",
    "print datetime.now() - startTime"
   ]
  },
  {
   "cell_type": "code",
   "execution_count": 25,
   "metadata": {
    "collapsed": false
   },
   "outputs": [
    {
     "data": {
      "text/plain": [
       "[('S', 'E'), ('S', 'B1'), ('S', 'B2'), ('E', 'B1'), ('E', 'B2'), ('B1', 'B2')]"
      ]
     },
     "execution_count": 25,
     "metadata": {},
     "output_type": "execute_result"
    }
   ],
   "source": []
  },
  {
   "cell_type": "code",
   "execution_count": 83,
   "metadata": {
    "collapsed": true
   },
   "outputs": [],
   "source": [
    "map_osm = folium.Map(location=[40.6928, -73.990340], width=500, height = 300)\n",
    "\n",
    "for location in crawl:\n",
    "    map_osm.polygon_marker(location=[crawl[location][0], crawl[location][1]], popup=location,\n",
    "                     fill_color='#132b5e', num_sides=3, radius=10)\n",
    "\n",
    "for path in line_paths:\n",
    "    map_osm.line(path, line_color='#FF0000', line_weight=5)\n",
    "    \n",
    "map_osm.create_map(path='salesman.html')\n"
   ]
  },
  {
   "cell_type": "code",
   "execution_count": null,
   "metadata": {
    "collapsed": true
   },
   "outputs": [],
   "source": []
  }
 ],
 "metadata": {
  "kernelspec": {
   "display_name": "Python 2",
   "language": "python",
   "name": "python2"
  },
  "language_info": {
   "codemirror_mode": {
    "name": "ipython",
    "version": 2
   },
   "file_extension": ".py",
   "mimetype": "text/x-python",
   "name": "python",
   "nbconvert_exporter": "python",
   "pygments_lexer": "ipython2",
   "version": "2.7.10"
  }
 },
 "nbformat": 4,
 "nbformat_minor": 0
}
