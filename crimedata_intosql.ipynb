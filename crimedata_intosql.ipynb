{
 "cells": [
  {
   "cell_type": "code",
   "execution_count": 20,
   "metadata": {
    "collapsed": true
   },
   "outputs": [],
   "source": [
    "import csv\n",
    "import MySQLdb"
   ]
  },
  {
   "cell_type": "code",
   "execution_count": 21,
   "metadata": {
    "collapsed": true
   },
   "outputs": [],
   "source": [
    "# DEFINE SQL LOG IN \n",
    "HOST = 'localhost'\n",
    "USER = 'root'\n",
    "PASSWD = ''\n",
    "DATABASE = 'bk_map'\n",
    "\n",
    "#CONNECT TO MySQL\n",
    "db_connect = MySQLdb.connect(\n",
    "    host = HOST,\n",
    "    user = USER,\n",
    "    passwd = PASSWD,\n",
    "    db = DATABASE)\n",
    "\n",
    "cur = db_connect.cursor()\n",
    "\n"
   ]
  },
  {
   "cell_type": "code",
   "execution_count": 22,
   "metadata": {
    "collapsed": false
   },
   "outputs": [
    {
     "data": {
      "text/plain": [
       "0L"
      ]
     },
     "execution_count": 22,
     "metadata": {},
     "output_type": "execute_result"
    }
   ],
   "source": [
    "cur.execute(\"\"\"\n",
    "CREATE TABLE bk_crime(\n",
    "    id INTEGER NOT NULL AUTO_INCREMENT,\n",
    "    longitude DOUBLE(12,8) NOT NULL,\n",
    "    latitude DOUBLE(12,8) NOT NULL,\n",
    "    year INT(4),\n",
    "    month INT(2),\n",
    "    x INT(7) ,\n",
    "    y INT(7) ,\n",
    "    total INT(2) ,\n",
    "    crime TEXT,\n",
    "    PRIMARY KEY (id)\n",
    "    )\n",
    "    \"\"\")\n",
    "#longitude,latitude,YR,MO,X,Y,TOT,CR"
   ]
  },
  {
   "cell_type": "code",
   "execution_count": 23,
   "metadata": {
    "collapsed": false
   },
   "outputs": [
    {
     "name": "stderr",
     "output_type": "stream",
     "text": [
      "/opt/local/Library/Frameworks/Python.framework/Versions/2.7/lib/python2.7/site-packages/ipykernel/__main__.py:12: Warning: Data truncated for column 'longitude' at row 1\n",
      "/opt/local/Library/Frameworks/Python.framework/Versions/2.7/lib/python2.7/site-packages/ipykernel/__main__.py:12: Warning: Data truncated for column 'latitude' at row 1\n",
      "/opt/local/Library/Frameworks/Python.framework/Versions/2.7/lib/python2.7/site-packages/ipykernel/__main__.py:12: Warning: Incorrect integer value: 'YR' for column 'year' at row 1\n",
      "/opt/local/Library/Frameworks/Python.framework/Versions/2.7/lib/python2.7/site-packages/ipykernel/__main__.py:12: Warning: Incorrect integer value: 'MO' for column 'month' at row 1\n",
      "/opt/local/Library/Frameworks/Python.framework/Versions/2.7/lib/python2.7/site-packages/ipykernel/__main__.py:12: Warning: Incorrect integer value: 'X' for column 'x' at row 1\n",
      "/opt/local/Library/Frameworks/Python.framework/Versions/2.7/lib/python2.7/site-packages/ipykernel/__main__.py:12: Warning: Incorrect integer value: 'Y' for column 'y' at row 1\n",
      "/opt/local/Library/Frameworks/Python.framework/Versions/2.7/lib/python2.7/site-packages/ipykernel/__main__.py:12: Warning: Incorrect integer value: 'TOT' for column 'total' at row 1\n"
     ]
    }
   ],
   "source": [
    "filename= 'crime_events/september_crime.csv'\n",
    "#filename= 'crime_events/august_crime.csv'\n",
    "#filename= 'crime_events/july_crime.csv'\n",
    "#filename= 'crime_events/june_crime.csv'\n",
    "#filename= 'crime_events/may_crime.csv'\n",
    "\n",
    "add_crime = \"INSERT INTO bk_crime(longitude, latitude, year, month, x, y, total, crime) VALUES (%s,%s,%s,%s,%s,%s,%s,%s)\"\n",
    "\n",
    "with open(filename, 'rb') as csvfile:\n",
    "    trafficread = csv.reader(csvfile)\n",
    "    for rows in trafficread: # Iterate through csv\n",
    "        cur.execute(add_crime, rows)\n",
    "    \n",
    "db_connect.commit()\n"
   ]
  },
  {
   "cell_type": "code",
   "execution_count": 25,
   "metadata": {
    "collapsed": false
   },
   "outputs": [],
   "source": [
    "#close database connection\n",
    "cur.close()\n",
    "db_connect.close()"
   ]
  },
  {
   "cell_type": "code",
   "execution_count": null,
   "metadata": {
    "collapsed": true
   },
   "outputs": [],
   "source": []
  }
 ],
 "metadata": {
  "kernelspec": {
   "display_name": "Python 2",
   "language": "python",
   "name": "python2"
  },
  "language_info": {
   "codemirror_mode": {
    "name": "ipython",
    "version": 2
   },
   "file_extension": ".py",
   "mimetype": "text/x-python",
   "name": "python",
   "nbconvert_exporter": "python",
   "pygments_lexer": "ipython2",
   "version": "2.7.10"
  }
 },
 "nbformat": 4,
 "nbformat_minor": 0
}
