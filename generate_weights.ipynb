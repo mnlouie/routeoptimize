{
 "cells": [
  {
   "cell_type": "code",
   "execution_count": 19,
   "metadata": {
    "collapsed": true
   },
   "outputs": [],
   "source": [
    "import MySQLdb\n",
    "import node_edge_gen as neg\n",
    "import networkx as nx\n",
    "\n",
    "from geopy.distance import great_circle\n",
    "from geopy.distance import vincenty"
   ]
  },
  {
   "cell_type": "code",
   "execution_count": 20,
   "metadata": {
    "collapsed": true
   },
   "outputs": [],
   "source": [
    "# DEFINE SQL LOG IN \n",
    "HOST = 'localhost'\n",
    "USER = 'root'\n",
    "PASSWD = ''\n",
    "DATABASE = 'bk_map'\n"
   ]
  },
  {
   "cell_type": "code",
   "execution_count": 21,
   "metadata": {
    "collapsed": true
   },
   "outputs": [],
   "source": [
    "#CONNECT TO MySQL\n",
    "db_connect = MySQLdb.connect(\n",
    "    host = HOST,\n",
    "    user = USER,\n",
    "    passwd = PASSWD,\n",
    "    db = DATABASE)\n",
    "\n",
    "cur = db_connect.cursor()"
   ]
  },
  {
   "cell_type": "code",
   "execution_count": 168,
   "metadata": {
    "collapsed": true
   },
   "outputs": [],
   "source": [
    "def nearest_node(lat_input, lon_input):\n",
    "    dis_near=0.05\n",
    "    find_nearby_nodes = ('''SELECT nodeid, latitude, longitude FROM bk_nodes \n",
    "                WHERE latitude BETWEEN %s AND %s\n",
    "                AND longitude BETWEEN %s AND %s\n",
    "                ''')\n",
    "    node_range = (lat_input-dis_near, lat_input+dis_near, lon_input-dis_near, lon_input+dis_near)\n",
    "\n",
    "    cur.execute(find_nearby_nodes,node_range)  \n",
    "    rows = cur.fetchall()\n",
    "    if len(rows) == 0:\n",
    "        return 'NULL'\n",
    "    #for row in rows:\n",
    "    else:\n",
    "        dist = [rows[0][0],great_circle((lat_input,lon_input),rows[0][1:3]).miles ]\n",
    "        for row in rows[1:]:\n",
    "            node_dist =  great_circle((lat_input,lon_input),row[1:3]).miles\n",
    "            if dist[1] > node_dist:\n",
    "                dist = [row[0],node_dist]\n",
    "        return dist[0]\n",
    "\n",
    "def distance_btw_nodes(node1,node2,node_dic):\n",
    "    return great_circle(node_dic[node1], node_dic[node2]).miles\n",
    "\n",
    "def accident_weight_btw_nodes(node1, node2, weight_dic):\n",
    "##    node1 = str(node1)\n",
    "##    node2 = str(node2)\n",
    "    if node1 in weight_dic and node2 in weight_dic:\n",
    "        return weight_dic[node1] + weight_dic[node2]\n",
    "    elif node1 in weight_dic and node2 not in weight_dic:\n",
    "        return weight_dic[node1]\n",
    "    elif node1 not in weight_dic and node2 in weight_dic:\n",
    "        return weight_dic[node2]\n",
    "    else:\n",
    "        return 0"
   ]
  },
  {
   "cell_type": "code",
   "execution_count": 207,
   "metadata": {
    "collapsed": true
   },
   "outputs": [],
   "source": [
    "#SQL graph into nx #MAKE THIS SMALLER BASED ON THE INPUT RANGE\n",
    "cur.execute('''SELECT nodeid, latitude, longitude FROM bk_nodes\n",
    "                ''')  \n",
    "nodes_sql = cur.fetchall()\n",
    "\n",
    "cur.execute('''SELECT edgeid, node1, node2 FROM bk_edges\n",
    "                ''')  \n",
    "edges_sql = cur.fetchall()\n",
    "\n",
    "cur.execute(\"\"\"SELECT id, latitude, longitude , n_ped_inj  \n",
    "    FROM bk_trafficaccidents \n",
    "    WHERE n_ped_inj > 0\"\"\")\n",
    "accidents_sql = cur.fetchall()\n",
    "\n"
   ]
  },
  {
   "cell_type": "code",
   "execution_count": 78,
   "metadata": {
    "collapsed": true
   },
   "outputs": [],
   "source": [
    "node_dic = {}\n",
    "for node in nodes_sql:\n",
    "    node_dic[node[0]] = node[1:] \n",
    "\n",
    "edge_dic = {}\n",
    "for edge in edges_sql:\n",
    "    edge_dic[edge[0]]= edge[1:]\n",
    "    \n"
   ]
  },
  {
   "cell_type": "code",
   "execution_count": 79,
   "metadata": {
    "collapsed": false
   },
   "outputs": [
    {
     "name": "stdout",
     "output_type": "stream",
     "text": [
      "40.673694 -73.9671906\n",
      "40.6502101 -73.9599766\n",
      "40.5751488 -73.9855724\n"
     ]
    },
    {
     "data": {
      "text/plain": [
       "'NULL'"
      ]
     },
     "execution_count": 79,
     "metadata": {},
     "output_type": "execute_result"
    }
   ],
   "source": [
    "print accidents_sql[0][1], accidents_sql[0][2]\n",
    "print accidents_sql[1][1], accidents_sql[1][2]\n",
    "print accidents_sql[2][1], accidents_sql[2][2]\n",
    "nearest_node(accidents_sql[2][1],accidents_sql[2][2])"
   ]
  },
  {
   "cell_type": "code",
   "execution_count": 81,
   "metadata": {
    "collapsed": false
   },
   "outputs": [],
   "source": [
    "acc_dic = {}\n",
    "for a in range(0,len(accidents_sql)):\n",
    "    node = nearest_node(accidents_sql[a][1],accidents_sql[a][2])\n",
    "    acc_dic[accidents_sql[a][0]] = accidents_sql[a][1],accidents_sql[a][2],accidents_sql[a][3], node\n"
   ]
  },
  {
   "cell_type": "code",
   "execution_count": 151,
   "metadata": {
    "collapsed": false
   },
   "outputs": [],
   "source": [
    "#print test_dic42476036 42476712"
   ]
  },
  {
   "cell_type": "code",
   "execution_count": 156,
   "metadata": {
    "collapsed": false
   },
   "outputs": [
    {
     "name": "stdout",
     "output_type": "stream",
     "text": [
      "0\n"
     ]
    }
   ],
   "source": [
    "node1 = 42476036\n",
    "node2 = 42476712\n",
    "weight_dic = test_dic\n",
    "#def accident_weight_btw_nodes(node1, node2, weight_dic):\n",
    "node1 = str(node1)\n",
    "node2 = str(node2)\n",
    "if node1 in weight_dic and node2 in weight_dic:\n",
    "    print weight_dic[node1] + weight_dic[node2]\n",
    "elif node1 in weight_dic:\n",
    "    print weight_dic[node1]\n",
    "elif node2 in weight_dic:\n",
    "    print weight_dic[node2]\n",
    "else:\n",
    "    print 0"
   ]
  },
  {
   "cell_type": "code",
   "execution_count": null,
   "metadata": {
    "collapsed": true
   },
   "outputs": [],
   "source": []
  },
  {
   "cell_type": "code",
   "execution_count": null,
   "metadata": {
    "collapsed": true
   },
   "outputs": [],
   "source": []
  },
  {
   "cell_type": "code",
   "execution_count": 190,
   "metadata": {
    "collapsed": false,
    "scrolled": true
   },
   "outputs": [],
   "source": [
    "def make_weights(node_dict,edge_dict,feature_dict, feature_factor):\n",
    "    tmp_dic = {}\n",
    "    for feat in feature_dict:\n",
    "        node = feature_dict[feat][3]\n",
    "        if node != 'NULL':\n",
    "            if node in tmp_dic:\n",
    "                tmp_dic[node] =  tmp_dic[node] + 1\n",
    "            else:\n",
    "                tmp_dic[node] = feature_dict[feat][2]\n",
    "                \n",
    "        else:\n",
    "            pass\n",
    "    tmp_edge = {}\n",
    "    for edge in edge_dict:\n",
    "        #print edge_dict[edge][0], edge_dict[edge][1]\n",
    "        acc_wei = accident_weight_btw_nodes(edge_dict[edge][0], edge_dict[edge][1], tmp_dic)\n",
    "        weight = ((feature_factor*acc_wei) + 1)*distance_btw_nodes(edge_dict[edge][0],edge_dict[edge][1],node_dic)\n",
    "        tmp_edge[edge] = edge_dict[edge][0], edge_dict[edge][1], weight\n",
    "    return tmp_edge\n",
    "#returns new edge function with weights \n",
    "#feature_factor = 0  ===no accident weightin\n",
    "#feature_factor === weight you put on the increased distances associated with accidents\n",
    "\n",
    "\n",
    "test_dic = make_weights(node_dic, edge_dic, acc_dic,5)"
   ]
  },
  {
   "cell_type": "code",
   "execution_count": null,
   "metadata": {
    "collapsed": false
   },
   "outputs": [],
   "source": []
  },
  {
   "cell_type": "code",
   "execution_count": 202,
   "metadata": {
    "collapsed": false
   },
   "outputs": [],
   "source": [
    "def gen_network(node_dic, edge_dic):\n",
    "    G = nx.Graph()\n",
    "    for d in node_dic:\n",
    "        G.add_node(d)\n",
    "    for e in edge_dic:\n",
    "        G.add_edge(edge_dic[e][0],edge_dic[e][1],weight = edge_dic[e][2])\n",
    "\n",
    "    print 'NODES: ', G.number_of_nodes()\n",
    "    print 'EDGES: ', G.number_of_edges()\n",
    "    return G"
   ]
  },
  {
   "cell_type": "code",
   "execution_count": 203,
   "metadata": {
    "collapsed": false
   },
   "outputs": [
    {
     "name": "stdout",
     "output_type": "stream",
     "text": [
      "NODES:  2473\n",
      "EDGES:  3922\n"
     ]
    }
   ],
   "source": [
    "G = gen_network(node_dic, test_dic)"
   ]
  },
  {
   "cell_type": "code",
   "execution_count": 205,
   "metadata": {
    "collapsed": false
   },
   "outputs": [],
   "source": [
    "import matplotlib.pylab as plt\n",
    "nx.draw(G, node_dic)\n",
    "plt.show()"
   ]
  },
  {
   "cell_type": "code",
   "execution_count": 208,
   "metadata": {
    "collapsed": false
   },
   "outputs": [],
   "source": [
    "#close database connection\n",
    "cur.close()\n",
    "db_connect.close()"
   ]
  },
  {
   "cell_type": "code",
   "execution_count": null,
   "metadata": {
    "collapsed": true
   },
   "outputs": [],
   "source": []
  }
 ],
 "metadata": {
  "kernelspec": {
   "display_name": "Python 2",
   "language": "python",
   "name": "python2"
  },
  "language_info": {
   "codemirror_mode": {
    "name": "ipython",
    "version": 2
   },
   "file_extension": ".py",
   "mimetype": "text/x-python",
   "name": "python",
   "nbconvert_exporter": "python",
   "pygments_lexer": "ipython2",
   "version": "2.7.10"
  }
 },
 "nbformat": 4,
 "nbformat_minor": 0
}
