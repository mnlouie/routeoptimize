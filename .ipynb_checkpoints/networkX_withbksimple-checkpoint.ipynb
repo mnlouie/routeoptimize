{
 "cells": [
  {
   "cell_type": "code",
   "execution_count": 160,
   "metadata": {
    "collapsed": true
   },
   "outputs": [],
   "source": [
    "import MySQLdb\n",
    "import node_edge_gen as neg\n",
    "import networkx as nx"
   ]
  },
  {
   "cell_type": "code",
   "execution_count": 161,
   "metadata": {
    "collapsed": false
   },
   "outputs": [],
   "source": [
    "#filename = 'map_extrasmall.osm'\n",
    "#int_string, ways, nodes = neg.extract_intersections(filename, verbose= False)\n",
    "#edges = ways_to_edge(ways)\n",
    "#neg.plot_nodes_edges(nodes,edges)\n",
    "\n",
    "#import from mySQL\n",
    "\n",
    "\n",
    "\n",
    "# DEFINE SQL LOG IN \n",
    "HOST = 'localhost'\n",
    "USER = 'root'\n",
    "PASSWD = ''\n",
    "DATABASE = 'bk_map'\n",
    "\n",
    "#CONNECT TO MySQL\n",
    "db_connect = MySQLdb.connect(\n",
    "    host = HOST,\n",
    "    user = USER,\n",
    "    passwd = PASSWD,\n",
    "    db = DATABASE)\n",
    "\n",
    "cur = db_connect.cursor()"
   ]
  },
  {
   "cell_type": "code",
   "execution_count": 162,
   "metadata": {
    "collapsed": true
   },
   "outputs": [],
   "source": [
    "import networkx as nx"
   ]
  },
  {
   "cell_type": "code",
   "execution_count": 163,
   "metadata": {
    "collapsed": false
   },
   "outputs": [],
   "source": [
    "#SQL graph into nx #MAKE THIS SMALLER BASED ON THE INPUT RANGE\n",
    "cur.execute('''SELECT nodeid, latitude, longitude FROM bk_nodes\n",
    "                ''')  \n",
    "nodes_sql = cur.fetchall()\n",
    "\n",
    "cur.execute('''SELECT edgeid, node1, node2 FROM bk_edges\n",
    "                ''')  \n",
    "edges_sql = cur.fetchall()\n",
    "\n",
    "#cursor.close()\n",
    "#db_connect.close()\n"
   ]
  },
  {
   "cell_type": "code",
   "execution_count": 164,
   "metadata": {
    "collapsed": false
   },
   "outputs": [
    {
     "name": "stdout",
     "output_type": "stream",
     "text": [
      "3951\n",
      "3951\n"
     ]
    }
   ],
   "source": [
    "#make dictionary for nodes and edges\n",
    "node_dic = {}\n",
    "for node in nodes_sql:\n",
    "    node_dic[node[0]] = node[1:] \n",
    "\n",
    "print len(edges_sql)\n",
    "edge_dic = {}\n",
    "count = 0\n",
    "for edge in edges_sql:\n",
    "    count += 1\n",
    "    edge_dic[edge[0]]= edge[1:]\n",
    "    \n",
    "print count"
   ]
  },
  {
   "cell_type": "code",
   "execution_count": 165,
   "metadata": {
    "collapsed": false
   },
   "outputs": [
    {
     "name": "stdout",
     "output_type": "stream",
     "text": [
      "nodes 2473\n",
      "edges 3951\n"
     ]
    }
   ],
   "source": [
    "print 'nodes', len(node_dic)\n",
    "print 'edges', len(edge_dic)"
   ]
  },
  {
   "cell_type": "code",
   "execution_count": 179,
   "metadata": {
    "collapsed": false
   },
   "outputs": [
    {
     "name": "stdout",
     "output_type": "stream",
     "text": [
      "2473 2473\n",
      "3951 3922\n"
     ]
    }
   ],
   "source": [
    "G = nx.Graph()\n",
    "n_count = 0\n",
    "for d in node_dic:\n",
    "    n_count += 1\n",
    "    G.add_node(d)\n",
    "e_count = 0\n",
    "for e in edge_dic:\n",
    "    e_count += 1\n",
    "    G.add_edge(edge_dic[e][0],edge_dic[e][1],weight = distance_btw_nodes(edge_dic[e][0],edge_dic[e][1],node_dic))\n",
    "\n",
    "print n_count, G.number_of_nodes()\n",
    "print e_count, G.number_of_edges()"
   ]
  },
  {
   "cell_type": "code",
   "execution_count": 181,
   "metadata": {
    "collapsed": false
   },
   "outputs": [],
   "source": [
    "import matplotlib.pylab as plt\n",
    "nx.draw(G, node_dic)\n",
    "plt.show()\n",
    "\n",
    "def plot_nodes_edges(nodes,edges):\n",
    "    for d in nodes:\n",
    "        plt.scatter(nodes[d][0],nodes[d][1])\n",
    "    \n",
    "\n",
    "    for w in edges:\n",
    "        node_list = []\n",
    "\n",
    "        for i in edges[w]:\n",
    "            if i in nodes: \n",
    "                node_list.append(nodes[i]) \n",
    "            \n",
    "        plt.plot(*zip(*node_list))\n",
    "    plt.show()\n",
    "\n",
    "\n",
    "#plot_nodes_edges(node_dic, edge_dic)"
   ]
  },
  {
   "cell_type": "code",
   "execution_count": 168,
   "metadata": {
    "collapsed": false
   },
   "outputs": [],
   "source": [
    "from geopy.distance import great_circle\n",
    "from geopy.distance import vincenty"
   ]
  },
  {
   "cell_type": "code",
   "execution_count": 1,
   "metadata": {
    "collapsed": false
   },
   "outputs": [],
   "source": [
    "def nearest_node(lat_input, lon_input):\n",
    "    dis_near=0.05\n",
    "    find_nearby_nodes = ('''SELECT nodeid, latitude, longitude FROM bk_nodes \n",
    "                WHERE latitude BETWEEN %s AND %s\n",
    "                AND longitude BETWEEN %s AND %s\n",
    "                ''')\n",
    "    node_range = (lat_input-dis_near, lat_input+dis_near, lon_input-dis_near, lon_input+dis_near)\n",
    "\n",
    "    cur.execute(find_nearby_nodes,node_range)  \n",
    "    rows = cur.fetchall()\n",
    "    #for row in rows:\n",
    "    #dist = [rows[0][0],great_circle((lat_input,lon_input),rows[0][1:3]).miles ]\n",
    "    for row in rows[1:]:\n",
    "        node_dist =  great_circle((lat_input,lon_input),row[1:3]).miles\n",
    "        if dist[1] > node_dist:\n",
    "            dist = [row[0],node_dist]\n",
    "    return dist[0]\n",
    "\n",
    "# for lat long -  40.67, -73.98\n",
    "# distance - 0.0833"
   ]
  },
  {
   "cell_type": "code",
   "execution_count": 170,
   "metadata": {
    "collapsed": false
   },
   "outputs": [],
   "source": [
    "start = nearest_node(40.6868, -73.9824)"
   ]
  },
  {
   "cell_type": "code",
   "execution_count": 171,
   "metadata": {
    "collapsed": false
   },
   "outputs": [],
   "source": [
    "end = nearest_node(40.6848, -73.9918)"
   ]
  },
  {
   "cell_type": "code",
   "execution_count": 172,
   "metadata": {
    "collapsed": false
   },
   "outputs": [
    {
     "data": {
      "text/plain": [
       "True"
      ]
     },
     "execution_count": 172,
     "metadata": {},
     "output_type": "execute_result"
    }
   ],
   "source": [
    "nx.has_path(G,start,end)"
   ]
  },
  {
   "cell_type": "code",
   "execution_count": 186,
   "metadata": {
    "collapsed": false
   },
   "outputs": [
    {
     "ename": "ProgrammingError",
     "evalue": "closing a closed connection",
     "output_type": "error",
     "traceback": [
      "\u001b[0;31m---------------------------------------------------------------------------\u001b[0m",
      "\u001b[0;31mProgrammingError\u001b[0m                          Traceback (most recent call last)",
      "\u001b[0;32m<ipython-input-186-be08ecaebc44>\u001b[0m in \u001b[0;36m<module>\u001b[0;34m()\u001b[0m\n\u001b[1;32m      1\u001b[0m \u001b[0mcursor\u001b[0m\u001b[0;34m.\u001b[0m\u001b[0mclose\u001b[0m\u001b[0;34m(\u001b[0m\u001b[0;34m)\u001b[0m\u001b[0;34m\u001b[0m\u001b[0m\n\u001b[0;32m----> 2\u001b[0;31m \u001b[0mdb_connect\u001b[0m\u001b[0;34m.\u001b[0m\u001b[0mclose\u001b[0m\u001b[0;34m(\u001b[0m\u001b[0;34m)\u001b[0m\u001b[0;34m\u001b[0m\u001b[0m\n\u001b[0m",
      "\u001b[0;31mProgrammingError\u001b[0m: closing a closed connection"
     ]
    }
   ],
   "source": [
    "cursor.close()\n",
    "db_connect.close()"
   ]
  },
  {
   "cell_type": "code",
   "execution_count": 185,
   "metadata": {
    "collapsed": false
   },
   "outputs": [
    {
     "data": {
      "text/plain": [
       "['42517476',\n",
       " '42466447',\n",
       " '42517472',\n",
       " '42492216',\n",
       " '42492219',\n",
       " '42492223',\n",
       " '42492231',\n",
       " '42492239',\n",
       " '42492242',\n",
       " '42484011',\n",
       " '42492244']"
      ]
     },
     "execution_count": 185,
     "metadata": {},
     "output_type": "execute_result"
    }
   ],
   "source": [
    "nx.shortest_path(G,source = start, target = end, weight='yes')"
   ]
  },
  {
   "cell_type": "code",
   "execution_count": 183,
   "metadata": {
    "collapsed": false
   },
   "outputs": [
    {
     "data": {
      "text/plain": [
       "['42517476',\n",
       " '42466447',\n",
       " '42517472',\n",
       " '42492216',\n",
       " '42492219',\n",
       " '42492223',\n",
       " '42492231',\n",
       " '42492239',\n",
       " '42492242',\n",
       " '42484011',\n",
       " '42492244']"
      ]
     },
     "execution_count": 183,
     "metadata": {},
     "output_type": "execute_result"
    }
   ],
   "source": [
    "nx.dijkstra_path(G,start,end)"
   ]
  },
  {
   "cell_type": "code",
   "execution_count": 177,
   "metadata": {
    "collapsed": true
   },
   "outputs": [],
   "source": [
    "def distance_btw_nodes(node1,node2,node_dic):\n",
    "    return great_circle(node_dic[node1], node_dic[node2]).miles"
   ]
  },
  {
   "cell_type": "code",
   "execution_count": 178,
   "metadata": {
    "collapsed": false
   },
   "outputs": [
    {
     "name": "stdout",
     "output_type": "stream",
     "text": [
      "0.127685365156\n"
     ]
    }
   ],
   "source": [
    "print distance_btw_nodes('42517476','42466447',node_dic)"
   ]
  },
  {
   "cell_type": "code",
   "execution_count": null,
   "metadata": {
    "collapsed": false
   },
   "outputs": [],
   "source": []
  },
  {
   "cell_type": "code",
   "execution_count": null,
   "metadata": {
    "collapsed": true
   },
   "outputs": [],
   "source": []
  }
 ],
 "metadata": {
  "kernelspec": {
   "display_name": "Python 2",
   "language": "python",
   "name": "python2"
  },
  "language_info": {
   "codemirror_mode": {
    "name": "ipython",
    "version": 2
   },
   "file_extension": ".py",
   "mimetype": "text/x-python",
   "name": "python",
   "nbconvert_exporter": "python",
   "pygments_lexer": "ipython2",
   "version": "2.7.10"
  }
 },
 "nbformat": 4,
 "nbformat_minor": 0
}
