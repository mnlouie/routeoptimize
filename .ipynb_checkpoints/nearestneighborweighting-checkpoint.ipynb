{
 "cells": [
  {
   "cell_type": "code",
   "execution_count": 1,
   "metadata": {
    "collapsed": true
   },
   "outputs": [],
   "source": [
    "import MySQLdb\n",
    "import node_edge_gen as neg\n",
    "import networkx as nx\n",
    "\n",
    "from geopy.distance import great_circle\n"
   ]
  },
  {
   "cell_type": "code",
   "execution_count": 2,
   "metadata": {
    "collapsed": true
   },
   "outputs": [],
   "source": [
    "# DEFINE SQL LOG IN \n",
    "HOST = 'localhost'\n",
    "USER = 'root'\n",
    "PASSWD = ''\n",
    "DATABASE = 'bk_map'\n"
   ]
  },
  {
   "cell_type": "code",
   "execution_count": 3,
   "metadata": {
    "collapsed": true
   },
   "outputs": [],
   "source": [
    "#CONNECT TO MySQL\n",
    "db_connect = MySQLdb.connect(\n",
    "    host = HOST,\n",
    "    user = USER,\n",
    "    passwd = PASSWD,\n",
    "    db = DATABASE)\n",
    "\n",
    "cur = db_connect.cursor()"
   ]
  },
  {
   "cell_type": "code",
   "execution_count": 4,
   "metadata": {
    "collapsed": true
   },
   "outputs": [],
   "source": [
    "def nearest_node(lat_input, lon_input):\n",
    "    dis_near=0.05\n",
    "    find_nearby_nodes = ('''SELECT nodeid, latitude, longitude FROM bk_nodes \n",
    "                WHERE latitude BETWEEN %s AND %s\n",
    "                AND longitude BETWEEN %s AND %s\n",
    "                ''')\n",
    "    node_range = (lat_input-dis_near, lat_input+dis_near, lon_input-dis_near, lon_input+dis_near)\n",
    "\n",
    "    cur.execute(find_nearby_nodes,node_range)  \n",
    "    rows = cur.fetchall()\n",
    "    if len(rows) == 0:\n",
    "        return 'NULL'\n",
    "    #for row in rows:\n",
    "    else:\n",
    "        dist = [rows[0][0],great_circle((lat_input,lon_input),rows[0][1:3]).miles ]\n",
    "        for row in rows[1:]:\n",
    "            node_dist =  great_circle((lat_input,lon_input),row[1:3]).miles\n",
    "            if dist[1] > node_dist:\n",
    "                dist = [row[0],node_dist]\n",
    "        return dist[0]\n",
    "\n",
    "def distance_btw_nodes(node1,node2,node_dic):\n",
    "    return great_circle(node_dic[node1], node_dic[node2]).miles\n",
    "\n",
    "def accident_weight_btw_nodes(node1, node2, weight_dic):\n",
    "##    node1 = str(node1)\n",
    "##    node2 = str(node2)\n",
    "    if node1 in weight_dic and node2 in weight_dic:\n",
    "        return weight_dic[node1] + weight_dic[node2]\n",
    "    elif node1 in weight_dic and node2 not in weight_dic:\n",
    "        return weight_dic[node1]\n",
    "    elif node1 not in weight_dic and node2 in weight_dic:\n",
    "        return weight_dic[node2]\n",
    "    else:\n",
    "        return 0"
   ]
  },
  {
   "cell_type": "code",
   "execution_count": 89,
   "metadata": {
    "collapsed": true
   },
   "outputs": [],
   "source": [
    "#SQL graph into nx #MAKE THIS SMALLER BASED ON THE INPUT RANGE\n",
    "cur.execute('''SELECT nodeid, latitude, longitude FROM bk_nodes\n",
    "                ''')  \n",
    "nodes_sql = cur.fetchall()\n",
    "\n",
    "cur.execute('''SELECT edgeid, node1, node2 FROM bk_edges\n",
    "                ''')  \n",
    "edges_sql = cur.fetchall()\n",
    "\n",
    "cur.execute(\"\"\"SELECT id, latitude, longitude , n_ped_inj  \n",
    "    FROM bk_trafficaccidents \n",
    "    WHERE n_ped_inj > 0\n",
    "    AND date BETWEEN '2014-09-01' AND '2015-09-01'\n",
    "    \"\"\")\n",
    "accidents_sql = cur.fetchall()\n",
    "\n"
   ]
  },
  {
   "cell_type": "code",
   "execution_count": 6,
   "metadata": {
    "collapsed": true
   },
   "outputs": [],
   "source": [
    "node_dic = {}\n",
    "for node in nodes_sql:\n",
    "    node_dic[node[0]] = node[1:] \n",
    "\n",
    "edge_dic = {}\n",
    "for edge in edges_sql:\n",
    "    edge_dic[edge[0]]= edge[1:]\n",
    "    \n",
    "acc_dic = {}\n",
    "for a in range(0,len(accidents_sql)):\n",
    "    node = nearest_node(accidents_sql[a][1],accidents_sql[a][2])\n",
    "    acc_dic[accidents_sql[a][0]] = accidents_sql[a][1],accidents_sql[a][2],accidents_sql[a][3], node\n"
   ]
  },
  {
   "cell_type": "code",
   "execution_count": 7,
   "metadata": {
    "collapsed": true
   },
   "outputs": [],
   "source": [
    "def gen_network(node_dic, edge_dic):\n",
    "    G = nx.Graph()\n",
    "    for d in node_dic:\n",
    "        G.add_node(d)\n",
    "    for e in edge_dic:\n",
    "        G.add_edge(edge_dic[e][0],edge_dic[e][1])\n",
    "\n",
    "    print 'NODES: ', G.number_of_nodes()\n",
    "    print 'EDGES: ', G.number_of_edges()\n",
    "    return G"
   ]
  },
  {
   "cell_type": "code",
   "execution_count": 8,
   "metadata": {
    "collapsed": false
   },
   "outputs": [
    {
     "name": "stdout",
     "output_type": "stream",
     "text": [
      "NODES:  2473\n",
      "EDGES:  3922\n"
     ]
    }
   ],
   "source": [
    "G = gen_network(node_dic,edge_dic)"
   ]
  },
  {
   "cell_type": "code",
   "execution_count": 10,
   "metadata": {
    "collapsed": false
   },
   "outputs": [],
   "source": [
    "# adding the attributes of the neighbor list to each node in the network\n",
    "neighbor_dic = {}\n",
    "for node in G.nodes():\n",
    "    neighbor_dic[node] = G.neighbors(node)\n",
    "    \n",
    "nx.set_node_attributes(G, 'neighbors', neighbor_dic)"
   ]
  },
  {
   "cell_type": "code",
   "execution_count": 23,
   "metadata": {
    "collapsed": false
   },
   "outputs": [],
   "source": [
    "node_neigh = nx.get_node_attributes(G,'neighbors')\n",
    "tmp_dic = {}\n",
    "feature_dict = acc_dic \n",
    "for feat in feature_dict:\n",
    "    node = feature_dict[feat][3]\n",
    "    if node != 'NULL':\n",
    "        if node in tmp_dic:\n",
    "            tmp_dic[node] =  tmp_dic[node] + 1\n",
    "        else:\n",
    "            tmp_dic[node] = feature_dict[feat][2]\n",
    "                \n",
    "    else:\n",
    "        pass\n"
   ]
  },
  {
   "cell_type": "code",
   "execution_count": 36,
   "metadata": {
    "collapsed": false
   },
   "outputs": [
    {
     "name": "stdout",
     "output_type": "stream",
     "text": [
      "660\n",
      "2473\n"
     ]
    }
   ],
   "source": [
    "#for node in node_neigh:\n",
    "#    for no in node_neigh[node]:\n",
    "#        print tmp_dic[no]\n",
    "\n",
    "print len(tmp_dic)\n",
    "print len(node_dic)\n",
    "\n",
    "traffic_dic = {}\n",
    "for node in node_dic:\n",
    "    if node in tmp_dic:\n",
    "        traffic_dic[node] = float(tmp_dic[node])\n",
    "    else:\n",
    "        traffic_dic[node] = 0\n",
    "\n",
    "#print traffic_dic\n",
    "nx.set_node_attributes(G, 'traffic', traffic_dic)"
   ]
  },
  {
   "cell_type": "code",
   "execution_count": 86,
   "metadata": {
    "collapsed": false
   },
   "outputs": [],
   "source": [
    "def make_nearestneighborhood_weights(node_dict,edge_dict,feature_dict,feature_factor):\n",
    "    traffic_weightnn = {}\n",
    "    for node in neighbor_dic:\n",
    "        traffic_weight = 0\n",
    "        for no in neighbor_dic[node]:\n",
    "            traffic_weight += traffic_dic[no] \n",
    "        #weight = traffic_weight + traffic_dic[node]    \n",
    "        if traffic_weight + traffic_dic[node] != 0:\n",
    "             weight = traffic_dic[node] / (traffic_weight + traffic_dic[node])\n",
    "        else:\n",
    "            weight = 0\n",
    "        traffic_weightnn[node] = weight\n",
    "    tmp_edge = {}\n",
    "    \n",
    "    for edge in edge_dic:\n",
    "        #print edge_dict[edge][0], edge_dict[edge][1]\n",
    "        acc_wei = accident_weight_btw_nodes(edge_dic[edge][0], edge_dic[edge][1], traffic_weightnn)\n",
    "        weight = ((feature_factor*acc_wei) + 1)*distance_btw_nodes(edge_dic[edge][0],edge_dic[edge][1],node_dic)\n",
    "        tmp_edge[edge] = edge_dic[edge][0], edge_dic[edge][1], weight\n",
    "    return tmp_edge"
   ]
  },
  {
   "cell_type": "code",
   "execution_count": 93,
   "metadata": {
    "collapsed": false
   },
   "outputs": [],
   "source": [
    "test_dic = make_nearestneighborhood_weights(node_dic, edge_dic, traffic_dic,1)\n",
    "test_dic_dis = make_nearestneighborhood_weights(node_dic, edge_dic, traffic_dic, 0)\n"
   ]
  },
  {
   "cell_type": "code",
   "execution_count": 91,
   "metadata": {
    "collapsed": false
   },
   "outputs": [],
   "source": [
    "traffic_weightnn = {}\n",
    "for node in neighbor_dic:\n",
    "    traffic_weight = 0\n",
    "    for no in neighbor_dic[node]:\n",
    "        traffic_weight += traffic_dic[no] \n",
    "        weight = traffic_weight + traffic_dic[node]\n",
    "    traffic_weightnn[node] = weight\n",
    "    \n",
    "#print traffic_weightnn\n",
    "#for edge in edge_dic:\n",
    "    #print accident_weight_btw_nodes(edge_dic[edge][0], edge_dic[edge][1], traffic_weightnn)"
   ]
  },
  {
   "cell_type": "code",
   "execution_count": 67,
   "metadata": {
    "collapsed": false
   },
   "outputs": [],
   "source": [
    "def make_weights(node_dict,edge_dict,feature_dict,feature_factor):\n",
    "    tmp_dic = {}\n",
    "    for feat in feature_dict:\n",
    "        node = feature_dict[feat][3]\n",
    "        if node != 'NULL':\n",
    "            if node in tmp_dic:\n",
    "                tmp_dic[node] =  tmp_dic[node] + 1\n",
    "            else:\n",
    "                tmp_dic[node] = feature_dict[feat][2]\n",
    "                \n",
    "        else:\n",
    "            pass\n",
    "    tmp_edge = {}\n",
    "    for edge in edge_dict:\n",
    "        #print edge_dict[edge][0], edge_dict[edge][1]\n",
    "        acc_wei = accident_weight_btw_nodes(edge_dict[edge][0], edge_dict[edge][1], tmp_dic)\n",
    "        weight = ((feature_factor*acc_wei) + 1)*distance_btw_nodes(edge_dict[edge][0],edge_dict[edge][1],node_dic)\n",
    "        tmp_edge[edge] = edge_dict[edge][0], edge_dict[edge][1], weight\n",
    "    return tmp_edge\n",
    "#returns new edge function with weights \n",
    "#feature_factor = 0  ===no accident weightin\n",
    "#feature_factor === weight you put on the increased distances associated with accidents\n",
    "\n",
    "\n",
    "test_dist_weight = make_weights(node_dic, edge_dic, acc_dic,0)\n",
    "test_dist_weight5 = make_weights(node_dic, edge_dic, acc_dic,10) # works"
   ]
  },
  {
   "cell_type": "code",
   "execution_count": 92,
   "metadata": {
    "collapsed": false
   },
   "outputs": [],
   "source": [
    "#for edge in edge_dic:\n",
    "#    print test_dist_weight[edge][2], test_dist_weight5[edge][2], test_dic_dis[edge][2], test_dic[edge][2], test_dic5[edge][2]"
   ]
  },
  {
   "cell_type": "code",
   "execution_count": null,
   "metadata": {
    "collapsed": true
   },
   "outputs": [],
   "source": [
    "cur.execute(\"\"\"\n",
    "CREATE TABLE bk_weights_acc_nn(\n",
    "    edgeid BIGINT NOT NULL,\n",
    "    node1 BIGINT NOT NULL,\n",
    "    node2 BIGINT NOT NULL,\n",
    "    weight FLOAT(12,8) NOT NULL,\n",
    "    PRIMARY KEY (edgeid)\n",
    "    )\n",
    "    \"\"\")\n",
    "\n",
    "add_edge= (\"INSERT INTO bk_weights__acc_nn \"\n",
    "           \" (edgeid, node1, node2, weight)\"\n",
    "           \" VALUES (%s, %s,%s, %s)\")\n",
    "\n",
    "    \n",
    "for ed in test_dic:\n",
    "    edge_data = ed, test_dic[ed][0], test_dic[ed][1], test_dic[ed][2]\n",
    "    cur.execute(add_edge, edge_data)\n"
   ]
  }
 ],
 "metadata": {
  "kernelspec": {
   "display_name": "Python 2",
   "language": "python",
   "name": "python2"
  },
  "language_info": {
   "codemirror_mode": {
    "name": "ipython",
    "version": 2
   },
   "file_extension": ".py",
   "mimetype": "text/x-python",
   "name": "python",
   "nbconvert_exporter": "python",
   "pygments_lexer": "ipython2",
   "version": "2.7.10"
  }
 },
 "nbformat": 4,
 "nbformat_minor": 0
}
