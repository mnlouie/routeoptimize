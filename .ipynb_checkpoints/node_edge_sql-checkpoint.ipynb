{
 "cells": [
  {
   "cell_type": "code",
   "execution_count": 67,
   "metadata": {
    "collapsed": true
   },
   "outputs": [],
   "source": [
    "import MySQLdb\n",
    "import node_edge_gen as neg"
   ]
  },
  {
   "cell_type": "code",
   "execution_count": 68,
   "metadata": {
    "collapsed": false
   },
   "outputs": [],
   "source": [
    "filename = 'map_bk_test'\n",
    "int_string, ways, nodes = neg.extract_intersections(filename, verbose= False)\n",
    "edges = ways_to_edge(ways)\n",
    "neg.plot_nodes_edges(nodes,edges)"
   ]
  },
  {
   "cell_type": "code",
   "execution_count": 69,
   "metadata": {
    "collapsed": true
   },
   "outputs": [],
   "source": [
    "HOST = 'localhost'\n",
    "USER = 'root'\n",
    "PASSWD = ''\n",
    "DATABASE = 'bk_map'"
   ]
  },
  {
   "cell_type": "code",
   "execution_count": 70,
   "metadata": {
    "collapsed": true
   },
   "outputs": [],
   "source": [
    "db_connect = MySQLdb.connect(\n",
    "    host = HOST,\n",
    "    user = USER,\n",
    "    passwd = PASSWD,\n",
    "    db = DATABASE)\n",
    "\n",
    "cursor = db_connect.cursor()\n"
   ]
  },
  {
   "cell_type": "code",
   "execution_count": 8,
   "metadata": {
    "collapsed": false
   },
   "outputs": [
    {
     "data": {
      "text/plain": [
       "1L"
      ]
     },
     "execution_count": 8,
     "metadata": {},
     "output_type": "execute_result"
    }
   ],
   "source": [
    "#cursor.execute('create database bk_map')\n"
   ]
  },
  {
   "cell_type": "code",
   "execution_count": 71,
   "metadata": {
    "collapsed": false
   },
   "outputs": [
    {
     "data": {
      "text/plain": [
       "0L"
      ]
     },
     "execution_count": 71,
     "metadata": {},
     "output_type": "execute_result"
    }
   ],
   "source": [
    "#cursor.execute('use bk_map')\n",
    "cursor.execute(\"\"\"\n",
    "CREATE TABLE bk_nodes(\n",
    "    nodeid BIGINT NOT NULL,\n",
    "    latitude DOUBLE(11,7) NOT NULL,\n",
    "    longitude DOUBLE(11,7) NOT NULL,\n",
    "    PRIMARY KEY (nodeid)\n",
    "    )\n",
    "    \"\"\")\n",
    "\n",
    "cursor.execute(\"\"\"\n",
    "CREATE TABLE bk_edges(\n",
    "    edgeid BIGINT NOT NULL,\n",
    "    node1 BIGINT NOT NULL,\n",
    "    node2 BIGINT NOT NULL,\n",
    "    PRIMARY KEY (edgeid)\n",
    "    )\n",
    "    \"\"\")"
   ]
  },
  {
   "cell_type": "code",
   "execution_count": 72,
   "metadata": {
    "collapsed": true
   },
   "outputs": [],
   "source": [
    "add_node= (\"INSERT INTO bk_nodes \"\n",
    "           \" (nodeid, latitude, longitude)\"\n",
    "           \" VALUES (%s, %s, %s)\")\n",
    "\n",
    "add_edge= (\"INSERT INTO bk_edges \"\n",
    "           \" (edgeid, node1, node2)\"\n",
    "           \" VALUES (%s, %s, %s)\")"
   ]
  },
  {
   "cell_type": "code",
   "execution_count": 73,
   "metadata": {
    "collapsed": false
   },
   "outputs": [],
   "source": [
    "for no in nodes:\n",
    "    node_data =  no, nodes[no][0],nodes[no][1]\n",
    "    cursor.execute(add_node, node_data)\n",
    "    \n",
    "for ed in edges:\n",
    "    edge_data = ed, edges[ed][0], edges[ed][1]\n",
    "    cursor.execute(add_edge, edge_data)\n",
    "\n",
    "    \n",
    "    #CHECK FOR DUPLICATES!!!!"
   ]
  },
  {
   "cell_type": "code",
   "execution_count": 74,
   "metadata": {
    "collapsed": true
   },
   "outputs": [],
   "source": [
    "db_connect.commit()\n"
   ]
  },
  {
   "cell_type": "code",
   "execution_count": 75,
   "metadata": {
    "collapsed": false
   },
   "outputs": [],
   "source": [
    "cursor.close()\n",
    "db_connect.close()"
   ]
  },
  {
   "cell_type": "code",
   "execution_count": null,
   "metadata": {
    "collapsed": true
   },
   "outputs": [],
   "source": []
  }
 ],
 "metadata": {
  "kernelspec": {
   "display_name": "Python 2",
   "language": "python",
   "name": "python2"
  },
  "language_info": {
   "codemirror_mode": {
    "name": "ipython",
    "version": 2
   },
   "file_extension": ".py",
   "mimetype": "text/x-python",
   "name": "python",
   "nbconvert_exporter": "python",
   "pygments_lexer": "ipython2",
   "version": "2.7.10"
  }
 },
 "nbformat": 4,
 "nbformat_minor": 0
}
