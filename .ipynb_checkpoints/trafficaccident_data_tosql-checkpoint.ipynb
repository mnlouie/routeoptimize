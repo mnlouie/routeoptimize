{
 "cells": [
  {
   "cell_type": "code",
   "execution_count": 2,
   "metadata": {
    "collapsed": true
   },
   "outputs": [],
   "source": [
    "import csv\n",
    "import MySQLdb"
   ]
  },
  {
   "cell_type": "code",
   "execution_count": 1,
   "metadata": {
    "collapsed": false
   },
   "outputs": [],
   "source": [
    "filename = '/Users/mnlouie/Insight/trafficaccidents/NYPD_Motor_Vehicle_Collisions.csv'\n",
    "\n",
    "#with open(filename, 'rb') as csvfile:\n",
    "#    trafficread = csv.reader(csvfile)\n",
    "    #for row in trafficread:\n",
    "    #for row in trafficread:\n",
    "    #    if row[2] == 'BROOKLYN':\n",
    "    #        print row[:14]"
   ]
  },
  {
   "cell_type": "code",
   "execution_count": 54,
   "metadata": {
    "collapsed": false
   },
   "outputs": [
    {
     "data": {
      "text/plain": [
       "0L"
      ]
     },
     "execution_count": 54,
     "metadata": {},
     "output_type": "execute_result"
    }
   ],
   "source": [
    "# DEFINE SQL LOG IN \n",
    "HOST = 'localhost'\n",
    "USER = 'root'\n",
    "PASSWD = ''\n",
    "DATABASE = 'bk_map'\n",
    "\n",
    "db_connect = MySQLdb.connect(\n",
    "    host = HOST,\n",
    "    user = USER,\n",
    "    passwd = PASSWD,\n",
    "    db = DATABASE)\n",
    "\n",
    "cursor = db_connect.cursor()\n",
    "\n",
    "cursor.execute(\"\"\"\n",
    "CREATE TABLE bk_trafficaccidents(\n",
    "    id INTEGER NOT NULL AUTO_INCREMENT,\n",
    "    date DATE,\n",
    "    time TIME,\n",
    "    borough TEXT,\n",
    "    zipcode INT,\n",
    "    latitude DOUBLE(12,8) NOT NULL,\n",
    "    longitude DOUBLE(12,8) NOT NULL,\n",
    "    location TEXT,\n",
    "    onstreet TEXT,\n",
    "    crossstreet TEXT,\n",
    "    offstreet TEXT,\n",
    "    n_per_inj INT,\n",
    "    n_per_kil INT,\n",
    "    n_ped_inj INT,\n",
    "    n_ped_kil INT,\n",
    "    PRIMARY KEY (id)\n",
    "    )\n",
    "    \"\"\")"
   ]
  },
  {
   "cell_type": "code",
   "execution_count": 55,
   "metadata": {
    "collapsed": false
   },
   "outputs": [
    {
     "ename": "TypeError",
     "evalue": "an integer is required",
     "output_type": "error",
     "traceback": [
      "\u001b[0;31m---------------------------------------------------------------------------\u001b[0m",
      "\u001b[0;31mTypeError\u001b[0m                                 Traceback (most recent call last)",
      "\u001b[0;32m<ipython-input-55-789ab5819308>\u001b[0m in \u001b[0;36m<module>\u001b[0;34m()\u001b[0m\n\u001b[1;32m     14\u001b[0m             \u001b[0;31m#cursor.execute(add_accident, row[:14])\u001b[0m\u001b[0;34m\u001b[0m\u001b[0;34m\u001b[0m\u001b[0m\n\u001b[1;32m     15\u001b[0m             \u001b[0mrow_data\u001b[0m \u001b[0;34m=\u001b[0m \u001b[0mrow\u001b[0m\u001b[0;34m[\u001b[0m\u001b[0;36m1\u001b[0m\u001b[0;34m:\u001b[0m\u001b[0;36m14\u001b[0m\u001b[0;34m]\u001b[0m\u001b[0;34m\u001b[0m\u001b[0m\n\u001b[0;32m---> 16\u001b[0;31m             \u001b[0mrow_data\u001b[0m\u001b[0;34m.\u001b[0m\u001b[0minsert\u001b[0m\u001b[0;34m(\u001b[0m\u001b[0mrow_date\u001b[0m\u001b[0;34m,\u001b[0m\u001b[0;36m0\u001b[0m\u001b[0;34m)\u001b[0m\u001b[0;34m\u001b[0m\u001b[0m\n\u001b[0m\u001b[1;32m     17\u001b[0m             \u001b[0mcursor\u001b[0m\u001b[0;34m.\u001b[0m\u001b[0mexecute\u001b[0m\u001b[0;34m(\u001b[0m\u001b[0madd_accident\u001b[0m\u001b[0;34m,\u001b[0m \u001b[0mrow_data\u001b[0m\u001b[0;34m)\u001b[0m\u001b[0;34m\u001b[0m\u001b[0m\n\u001b[1;32m     18\u001b[0m \u001b[0;34m\u001b[0m\u001b[0m\n",
      "\u001b[0;31mTypeError\u001b[0m: an integer is required"
     ]
    }
   ],
   "source": [
    "add_accident = (\"INSERT INTO bk_trafficaccidents \"\n",
    "           \" (date, time, borough, zipcode, latitude, longitude, location, onstreet, crossstreet, offstreet, n_per_inj, n_per_kil, n_ped_inj, n_ped_kil)\"\n",
    "           \" VALUES (%s, %s, %s, %s, %s, %s, %s, %s, %s, %s, %s, %s, %s, %s)\")\n",
    "\n",
    "import datetime\n",
    "def change_date(string_date):  \n",
    "    return datetime.datetime.strptime(string_date, \"%d/%m/%Y\").strftime(\"%Y-%m-%d\")\n",
    "\n",
    "with open(filename, 'rb') as csvfile:\n",
    "    trafficread = csv.reader(csvfile)\n",
    "    for row in trafficread:\n",
    "        if row[2] == 'BROOKLYN' and row[12] > 0:\n",
    "            row_date = change_date(str(row[0]))\n",
    "            #cursor.execute(add_accident, row[:14])\n",
    "            row_data = row[1:14]\n",
    "            row_data.insert(0, row_date)\n",
    "            cursor.execute(add_accident, row_data)\n",
    "\n",
    "# commit the changes to the db\n",
    "db_connect.commit()\n",
    "\n",
    "#close database connection\n",
    "cursor.close()\n",
    "db_connect.close()"
   ]
  },
  {
   "cell_type": "code",
   "execution_count": 7,
   "metadata": {
    "collapsed": true
   },
   "outputs": [],
   "source": []
  },
  {
   "cell_type": "code",
   "execution_count": null,
   "metadata": {
    "collapsed": true
   },
   "outputs": [],
   "source": []
  }
 ],
 "metadata": {
  "kernelspec": {
   "display_name": "Python 2",
   "language": "python",
   "name": "python2"
  },
  "language_info": {
   "codemirror_mode": {
    "name": "ipython",
    "version": 2
   },
   "file_extension": ".py",
   "mimetype": "text/x-python",
   "name": "python",
   "nbconvert_exporter": "python",
   "pygments_lexer": "ipython2",
   "version": "2.7.10"
  }
 },
 "nbformat": 4,
 "nbformat_minor": 0
}
