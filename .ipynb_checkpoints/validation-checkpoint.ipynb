{
 "cells": [
  {
   "cell_type": "code",
   "execution_count": 62,
   "metadata": {
    "collapsed": true
   },
   "outputs": [],
   "source": [
    "#!/opt/local/bin/python\n",
    "\n",
    "import MySQLdb\n",
    "import networkx as nx\n",
    "import matplotlib.pylab as plt\n",
    "from geopy.distance import great_circle\n",
    "from geopy.geocoders import Nominatim \n",
    "import folium\n",
    "\n",
    "# DEFINE SQL LOG IN \n",
    "HOST = 'localhost'\n",
    "USER = 'root'\n",
    "PASSWD = ''\n",
    "DATABASE = 'bk_map'\n",
    "\n",
    "#CONNECT TO MySQL\n",
    "db_connect = MySQLdb.connect(\n",
    "\thost = HOST,\n",
    "\tuser = USER,\n",
    "\tpasswd = PASSWD,\n",
    "\tdb = DATABASE)\n",
    "\n",
    "cur = db_connect.cursor()\n",
    "\n",
    "def nearest_node(lat_input, lon_input):\n",
    "    dis_near=0.05\n",
    "    find_nearby_nodes = ('''SELECT nodeid, latitude, longitude FROM bk_nodes \n",
    "                WHERE latitude BETWEEN %s AND %s\n",
    "                AND longitude BETWEEN %s AND %s\n",
    "                ''')\n",
    "    node_range = (lat_input-dis_near, lat_input+dis_near, lon_input-dis_near, lon_input+dis_near)\n",
    "\n",
    "    cur.execute(find_nearby_nodes,node_range)  \n",
    "    rows = cur.fetchall()\n",
    "    if len(rows) == 0:\n",
    "        return 'NULL'\n",
    "    #for row in rows:\n",
    "    else:\n",
    "        dist = [rows[0][0],great_circle((lat_input,lon_input),rows[0][1:3]).miles ]\n",
    "        for row in rows[1:]:\n",
    "            node_dist =  great_circle((lat_input,lon_input),row[1:3]).miles\n",
    "            if dist[1] > node_dist:\n",
    "                dist = [row[0],node_dist]\n",
    "        return dist[0]\n",
    "\n",
    "def gen_network(node_dic, edge_dic):\n",
    "\tG = nx.Graph()\n",
    "\tfor d in node_dic:\n",
    " \t\tG.add_node(d)\n",
    "\t\n",
    "\tfor e in edge_dic:\n",
    "\t\tG.add_edge(str(edge_dic[e][0]),str(edge_dic[e][1]), weight = edge_dic[e][2])\n",
    "\n",
    "\t#print 'NODES: ', G.number_of_nodes()\n",
    "\t#print 'EDGES: ', G.number_of_edges()\n",
    "\treturn G\n",
    "\n",
    "def ReadNodefromSQL():\n",
    "\t#fetch data for nodes and edges\n",
    "\tcur.execute('''SELECT nodeid, latitude, longitude FROM bk_nodes\n",
    "                ''')  \n",
    "\tnodes_sql = cur.fetchall()\n",
    "\treturn nodes_sql\n",
    "\n",
    "def ReadEdgefromSQL():\n",
    "\tcur.execute('''SELECT edgeid, node1, node2, weight FROM bk_weights_1\n",
    "                ''')  \n",
    "\tedge_sql = cur.fetchall()\n",
    "\treturn edge_sql\n",
    "\n",
    "def NodeSQLtoDic(nodes_sql):\n",
    "\tnode_dic = {}\n",
    "\tfor node in nodes_sql:\n",
    "\t\tnode_dic[str(node[0])] = str(node[1]) ,str(node[2]) \n",
    "\treturn node_dic\n",
    "\n",
    "def EdgeDQLtoDic(edge_sql):\n",
    "\tedge_dic = {}\n",
    "\tfor edge in edge_sql:\n",
    "\t\tedge_dic[edge[0]]= edge[1:]\n",
    "\treturn edge_dic\n",
    "\n",
    "\n",
    "def make_path(start_lat, start_lng, end_lat, end_lng):\n",
    "#INPUT \n",
    "\tstart = nearest_node(start_lat,start_lng)\n",
    "\tend = nearest_node(end_lat, end_lng)\n",
    "#exeption!!\n",
    "\t#nx.has_path(G,start,end)\n",
    "\treturn nx.shortest_path(G,source = start, target = end, weight='weight')#\n",
    "\t \n",
    "\n",
    "def plot_path(node_dic, path_nodes):\n",
    "\tfor d in node_dic:\n",
    "\t\tplt.scatter(node_dic[d][0],node_dic[d][1])\n",
    "    \n",
    "\tnode_list = []\n",
    "\n",
    "\tfor p in path_nodes[0]:\n",
    "\t\tnode_list.append(node_dic[str(p)]) \n",
    "            \n",
    "\t\tplt.plot(*zip(*node_list), color='g')\n",
    "\n",
    "\tnode_list = []\n",
    "\tfor p in path_nodes[1]:\n",
    "\t\tnode_list.append(node_dic[str(p)])\n",
    "\n",
    "\t\tplt.plot(*zip(*node_list), color='r')\n",
    "\n",
    "\tplt.show()\n",
    "\treturn\n",
    "\n",
    "def crawl_path(start_lat, start_lng, bar_lat, bar_lng, end_lat, end_lng):\n",
    "\tpath1 = make_path(start_lat, start_lng, bar_lat, bar_lng)\n",
    "\tpath2 = make_path(bar_lat, bar_lng, end_lat, end_lng)\n",
    "\treturn path1, path2\n",
    "\n",
    "def close_db():\n",
    "\tcur.close()\n",
    "\tdb_connect.close()\n",
    "\n",
    "#ACTUAL PROGRAM\n",
    "\n",
    "\n",
    "\n",
    "geolocator = Nominatim()\n",
    "\n",
    "location = geolocator.geocode(\"Atlantic Terminal, Brooklyn\")\n",
    "start_lat, start_lng = location.latitude, location.longitude\n",
    "\n",
    "\n",
    "location = geolocator.geocode(\"82 4th Ave, Brooklyn\")\n",
    "bar_lat, bar_lng = location.latitude, location.longitude\n",
    "\n",
    "location = geolocator.geocode(\"218 Myrtle Ave, Brooklyn\")\n",
    "end_lat, end_lng = location.latitude, location.longitude\n",
    "\n",
    "#max_lat = max([start_lat,bar_lat, end_lat])\n",
    "#max_lng = max([start_lng,bar_lng, end_lng])\n",
    "\n",
    "#min_lat = min([start_lat,bar_lat, end_lat])\n",
    "#min_lng = min([start_lng,bar_lng, end_lng])\n",
    "\n",
    "#print min_lat, max_lat\n",
    "#print min_lng, max_lng\n",
    "\n",
    "node_sql = ReadNodefromSQL()\n",
    "edge_sql = ReadEdgefromSQL()\n",
    "\n",
    "node_dic = NodeSQLtoDic(node_sql)\n",
    "edge_dic = EdgeDQLtoDic(edge_sql)\n",
    "G = gen_network(node_dic, edge_dic)\n",
    "\n",
    "\n",
    "\n",
    "#start_lat = 40.6868 \n",
    "#start_lng = -73.9824\n",
    "#bar_lat =40.68200000 \n",
    "#bar_lng = -73.98020000\n",
    "#end_lat = 40.67430000 \n",
    "#end_lng = -73.99540000\n",
    "\n",
    "#path = make_path(start_lat, start_lng, end_lat, end_lng)\n",
    "path = crawl_path(start_lat, start_lng, bar_lat, bar_lng, end_lat, end_lng)"
   ]
  },
  {
   "cell_type": "code",
   "execution_count": 63,
   "metadata": {
    "collapsed": true
   },
   "outputs": [],
   "source": [
    "cur.execute(\"\"\"SELECT id, latitude, longitude , n_ped_inj  \n",
    "    FROM bk_trafficaccidents \n",
    "    WHERE n_ped_inj > 0\"\"\")\n",
    "accidents_sql = cur.fetchall()\n",
    "\n"
   ]
  },
  {
   "cell_type": "code",
   "execution_count": 64,
   "metadata": {
    "collapsed": false
   },
   "outputs": [],
   "source": [
    "accidents_sql[1]\n",
    "accidents_dic = {}\n",
    "accident_loc = []\n",
    "for accident in accidents_sql:\n",
    "    accidents_dic[accident[0]] = accident[1:]\n",
    "    accident_loc.append(accident[1:3])\n",
    "#from sklearn.neighbors import KernelDensity"
   ]
  },
  {
   "cell_type": "code",
   "execution_count": 65,
   "metadata": {
    "collapsed": false
   },
   "outputs": [
    {
     "name": "stdout",
     "output_type": "stream",
     "text": [
      "[[[40.684052, -73.977457], [40.6843767, -73.978278], [40.6837417, -73.978684], [40.6831067, -73.979106], [40.6824707, -73.9795607], [40.6825127, -73.9796725], [40.6818815, -73.9800945]], [[40.6818815, -73.9800945], [40.6812492, -73.980523], [40.6806157, -73.9809537], [40.6799801, -73.9813841], [40.68088, -73.983711], [40.681642, -73.985672], [40.68228, -73.985231], [40.682909, -73.984797], [40.683543, -73.984375], [40.684389, -73.986564], [40.685024, -73.9861337], [40.68566, -73.985689], [40.686504, -73.987859], [40.687365, -73.990035], [40.687959, -73.991509], [40.688571, -73.991094], [40.689135, -73.9906813], [40.6890931, -73.9905478], [40.6894849, -73.9902371], [40.6896947, -73.9900635], [40.6903275, -73.9896421], [40.6909681, -73.9892198], [40.6920881, -73.988932], [40.6923017, -73.9889003], [40.6924248, -73.9888886], [40.6928067, -73.9887616], [40.6931979, -73.9887289], [40.6933876, -73.9887173], [40.6944204, -73.9886543], [40.6950184, -73.9886116], [40.696094, -73.9885539], [40.6962943, -73.9885461], [40.6962386, -73.9870988], [40.69613, -73.9846747], [40.6961273, -73.9844509], [40.6959338, -73.9843465], [40.6959236, -73.9841084], [40.6958997, -73.9832003], [40.6958747, -73.9824065], [40.6958741, -73.9823322], [40.6958369, -73.9814244], [40.695494, -73.98116], [40.695476, -73.980728], [40.6954591, -73.9802565], [40.6938534, -73.979342], [40.6935047, -73.9791839]]]\n"
     ]
    }
   ],
   "source": [
    "#accidents_dic\n",
    "\n",
    "line_paths = []\n",
    "for pa in path:\n",
    "    line = []\n",
    "    for node in pa:\n",
    "        line.append([float(node_dic[node][0]), float(node_dic[node][1])])\n",
    "    line_paths.append(line)\n",
    "        \n",
    "print line_paths"
   ]
  },
  {
   "cell_type": "code",
   "execution_count": 66,
   "metadata": {
    "collapsed": false
   },
   "outputs": [],
   "source": [
    "#custom = folium.Map(location=[45.5236, -122.6750], tiles='Mapbox', API_key='wrobstory.map-12345678')\n",
    "\n",
    "map_osm = folium.Map(location=[40.6928, -73.990340], width=500, height = 300)\n",
    "map_osm.polygon_marker(location=[start_lat, start_lng], popup='Starting Point',\n",
    "                     fill_color='#132b5e', num_sides=3, radius=10)\n",
    "map_osm.polygon_marker(location=[bar_lat, bar_lng], popup='Bar',\n",
    "                     fill_color='#45647d', num_sides=4, radius=10)\n",
    "map_osm.polygon_marker(location=[end_lat, end_lng], popup='Ending Point',\n",
    "                     fill_color='#769d96', num_sides=6, radius=10)\n",
    "\n",
    "for accident in accident_loc:\n",
    "    #print accident\n",
    "    map_osm.circle_marker(location=accident, fill_color='#000000', radius=2)\n",
    "    \n",
    "for path in line_paths:\n",
    "    map_osm.line(path, line_color='#FF0000', line_weight=5)\n",
    "    \n",
    "map_osm.create_map(path='accidents1.html')\n"
   ]
  },
  {
   "cell_type": "code",
   "execution_count": 80,
   "metadata": {
    "collapsed": false
   },
   "outputs": [],
   "source": [
    "map_osm = folium.Map(location=[40.684901, -73.977680], width=500, height = 300, zoom_start=14)\n",
    "for node in node_dic:\n",
    "    map_osm.circle_marker(location=node_dic[node], fill_color='#000000', radius=1)\n",
    "map_osm.create_map(path='nodes.html')"
   ]
  },
  {
   "cell_type": "code",
   "execution_count": 81,
   "metadata": {
    "collapsed": true
   },
   "outputs": [],
   "source": [
    "map_osm = folium.Map(location=[40.684901, -73.977680], width=500, height = 300, zoom_start=14)\n",
    "for accident in accident_loc:\n",
    "    #print accident\n",
    "    map_osm.circle_marker(location=accident, line_color='#FF3300', radius=3)\n",
    "map_osm.create_map(path='justaccidents.html')"
   ]
  },
  {
   "cell_type": "code",
   "execution_count": 82,
   "metadata": {
    "collapsed": true
   },
   "outputs": [],
   "source": [
    "def path_node_line(path, node_dic):\n",
    "    line_paths = []\n",
    "    for pa in path:\n",
    "        line=[]\n",
    "        for node in pa:\n",
    "            line.append([node_dic[node][0],node_dic[node][1]])\n",
    "        line_paths.append(line)\n",
    "    return line_paths"
   ]
  },
  {
   "cell_type": "code",
   "execution_count": 112,
   "metadata": {
    "collapsed": false,
    "scrolled": true
   },
   "outputs": [
    {
     "name": "stdout",
     "output_type": "stream",
     "text": [
      "[['40.684052', '-73.977457'], ['40.6843767', '-73.978278'], ['40.6837417', '-73.978684'], ['40.6831067', '-73.979106'], ['40.6824707', '-73.9795607'], ['40.6825127', '-73.9796725'], ['40.6818815', '-73.9800945']]\n"
     ]
    }
   ],
   "source": [
    "path = crawl_path(start_lat, start_lng, bar_lat, bar_lng, end_lat, end_lng)\n",
    "#path_node_list(path[1], node_dic)\n",
    "line_paths = []\n",
    "for pa in path:\n",
    "    line=[]\n",
    "    for node in pa:\n",
    "        line.append([node_dic[node][0],node_dic[node][1]])\n",
    "    line_paths.append(line)\n",
    "print line_paths"
   ]
  },
  {
   "cell_type": "code",
   "execution_count": null,
   "metadata": {
    "collapsed": true
   },
   "outputs": [],
   "source": []
  }
 ],
 "metadata": {
  "kernelspec": {
   "display_name": "Python 2",
   "language": "python",
   "name": "python2"
  },
  "language_info": {
   "codemirror_mode": {
    "name": "ipython",
    "version": 2
   },
   "file_extension": ".py",
   "mimetype": "text/x-python",
   "name": "python",
   "nbconvert_exporter": "python",
   "pygments_lexer": "ipython2",
   "version": "2.7.10"
  }
 },
 "nbformat": 4,
 "nbformat_minor": 0
}
