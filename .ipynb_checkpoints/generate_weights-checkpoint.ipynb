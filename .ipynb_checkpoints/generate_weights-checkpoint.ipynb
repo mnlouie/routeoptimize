{
 "cells": [
  {
   "cell_type": "code",
   "execution_count": 1,
   "metadata": {
    "collapsed": true
   },
   "outputs": [],
   "source": [
    "import MySQLdb\n",
    "import node_edge_gen as neg\n",
    "import networkx as nx\n",
    "\n",
    "from geopy.distance import great_circle\n",
    "from geopy.distance import vincenty"
   ]
  },
  {
   "cell_type": "code",
   "execution_count": 15,
   "metadata": {
    "collapsed": true
   },
   "outputs": [],
   "source": [
    "# DEFINE SQL LOG IN \n",
    "HOST = 'localhost'\n",
    "USER = 'root'\n",
    "PASSWD = ''\n",
    "DATABASE = 'bk_map'\n"
   ]
  },
  {
   "cell_type": "code",
   "execution_count": 16,
   "metadata": {
    "collapsed": true
   },
   "outputs": [],
   "source": [
    "#CONNECT TO MySQL\n",
    "db_connect = MySQLdb.connect(\n",
    "    host = HOST,\n",
    "    user = USER,\n",
    "    passwd = PASSWD,\n",
    "    db = DATABASE)\n",
    "\n",
    "cur = db_connect.cursor()"
   ]
  },
  {
   "cell_type": "code",
   "execution_count": 17,
   "metadata": {
    "collapsed": true
   },
   "outputs": [],
   "source": [
    "def nearest_node(lat_input, lon_input):\n",
    "    dis_near=0.05\n",
    "    find_nearby_nodes = ('''SELECT nodeid, latitude, longitude FROM bk_nodes \n",
    "                WHERE latitude BETWEEN %s AND %s\n",
    "                AND longitude BETWEEN %s AND %s\n",
    "                ''')\n",
    "    node_range = (lat_input-dis_near, lat_input+dis_near, lon_input-dis_near, lon_input+dis_near)\n",
    "\n",
    "    cur.execute(find_nearby_nodes,node_range)  \n",
    "    rows = cur.fetchall()\n",
    "    if len(rows) == 0:\n",
    "        return 'NULL'\n",
    "    #for row in rows:\n",
    "    else:\n",
    "        dist = [rows[0][0],great_circle((lat_input,lon_input),rows[0][1:3]).miles ]\n",
    "        for row in rows[1:]:\n",
    "            node_dist =  great_circle((lat_input,lon_input),row[1:3]).miles\n",
    "            if dist[1] > node_dist:\n",
    "                dist = [row[0],node_dist]\n",
    "        return dist[0]\n",
    "\n",
    "def distance_btw_nodes(node1,node2,node_dic):\n",
    "    return great_circle(node_dic[node1], node_dic[node2]).miles\n",
    "\n",
    "def accident_weight_btw_nodes(node1, node2, weight_dic):\n",
    "##    node1 = str(node1)\n",
    "##    node2 = str(node2)\n",
    "    if node1 in weight_dic and node2 in weight_dic:\n",
    "        return weight_dic[node1] + weight_dic[node2]\n",
    "    elif node1 in weight_dic and node2 not in weight_dic:\n",
    "        return weight_dic[node1]\n",
    "    elif node1 not in weight_dic and node2 in weight_dic:\n",
    "        return weight_dic[node2]\n",
    "    else:\n",
    "        return 0"
   ]
  },
  {
   "cell_type": "code",
   "execution_count": 18,
   "metadata": {
    "collapsed": true
   },
   "outputs": [],
   "source": [
    "#SQL graph into nx #MAKE THIS SMALLER BASED ON THE INPUT RANGE\n",
    "cur.execute('''SELECT nodeid, latitude, longitude FROM bk_nodes\n",
    "                ''')  \n",
    "nodes_sql = cur.fetchall()\n",
    "\n",
    "cur.execute('''SELECT edgeid, node1, node2 FROM bk_edges\n",
    "                ''')  \n",
    "edges_sql = cur.fetchall()\n",
    "\n",
    "cur.execute(\"\"\"SELECT id, latitude, longitude , n_ped_inj  \n",
    "    FROM bk_trafficaccidents \n",
    "    WHERE n_ped_inj > 0\"\"\")\n",
    "accidents_sql = cur.fetchall()\n",
    "\n"
   ]
  },
  {
   "cell_type": "code",
   "execution_count": 19,
   "metadata": {
    "collapsed": false
   },
   "outputs": [],
   "source": [
    "node_dic = {}\n",
    "for node in nodes_sql:\n",
    "    node_dic[node[0]] = node[1:] \n",
    "\n",
    "edge_dic = {}\n",
    "for edge in edges_sql:\n",
    "    edge_dic[edge[0]]= edge[1:]\n",
    "    \n"
   ]
  },
  {
   "cell_type": "code",
   "execution_count": 9,
   "metadata": {
    "collapsed": false
   },
   "outputs": [
    {
     "name": "stdout",
     "output_type": "stream",
     "text": [
      "40.673694 -73.9671906\n",
      "40.6502101 -73.9599766\n",
      "40.5751488 -73.9855724\n"
     ]
    },
    {
     "data": {
      "text/plain": [
       "'NULL'"
      ]
     },
     "execution_count": 9,
     "metadata": {},
     "output_type": "execute_result"
    }
   ],
   "source": [
    "print accidents_sql[0][1], accidents_sql[0][2]\n",
    "print accidents_sql[1][1], accidents_sql[1][2]\n",
    "print accidents_sql[2][1], accidents_sql[2][2]\n",
    "nearest_node(accidents_sql[2][1],accidents_sql[2][2])"
   ]
  },
  {
   "cell_type": "code",
   "execution_count": 10,
   "metadata": {
    "collapsed": false
   },
   "outputs": [],
   "source": [
    "acc_dic = {}\n",
    "for a in range(0,len(accidents_sql)):\n",
    "    node = nearest_node(accidents_sql[a][1],accidents_sql[a][2])\n",
    "    acc_dic[accidents_sql[a][0]] = accidents_sql[a][1],accidents_sql[a][2],accidents_sql[a][3], node\n"
   ]
  },
  {
   "cell_type": "code",
   "execution_count": null,
   "metadata": {
    "collapsed": false
   },
   "outputs": [],
   "source": [
    "#print test_dic42476036 42476712"
   ]
  },
  {
   "cell_type": "code",
   "execution_count": 10,
   "metadata": {
    "collapsed": false
   },
   "outputs": [],
   "source": [
    "#node1 = 42476036\n",
    "#node2 = 42476712\n",
    "#weight_dic = test_dic\n",
    "#def accident_weight_btw_nodes(node1, node2, weight_dic):\n",
    "#node1 = str(node1)\n",
    "#node2 = str(node2)\n",
    "#if node1 in weight_dic and node2 in weight_dic:\n",
    "#    print weight_dic[node1] + weight_dic[node2]\n",
    "#elif node1 in weight_dic:\n",
    "#    print weight_dic[node1]\n",
    "#elif node2 in weight_dic:\n",
    "#    print weight_dic[node2]\n",
    "#else:\n",
    "#    print 0"
   ]
  },
  {
   "cell_type": "code",
   "execution_count": 11,
   "metadata": {
    "collapsed": true
   },
   "outputs": [],
   "source": [
    "def plot_nodes_edges(nodes,edges):\n",
    "    for d in nodes:\n",
    "        plt.scatter(nodes[d][0],nodes[d][1])\n",
    "    \n",
    "\n",
    "    for w in edges:\n",
    "        node_list = []\n",
    "\n",
    "        for i in edges[w]:\n",
    "            if i in nodes: \n",
    "                node_list.append(nodes[i]) \n",
    "            \n",
    "        plt.plot(*zip(*node_list))\n",
    "    plt.show()\n",
    "    \n",
    "def plot_nodes(nodes):\n",
    "    for d in nodes:\n",
    "        plt.scatter(nodes[d][0],nodes[d][1])\n",
    "    plt.show()\n",
    "\n"
   ]
  },
  {
   "cell_type": "code",
   "execution_count": null,
   "metadata": {
    "collapsed": true
   },
   "outputs": [],
   "source": []
  },
  {
   "cell_type": "code",
   "execution_count": 20,
   "metadata": {
    "collapsed": false,
    "scrolled": true
   },
   "outputs": [],
   "source": [
    "def make_weights(node_dict,edge_dict,feature_dict, feature_factor):\n",
    "    tmp_dic = {}\n",
    "    for feat in feature_dict:\n",
    "        node = feature_dict[feat][3]\n",
    "        if node != 'NULL':\n",
    "            if node in tmp_dic:\n",
    "                tmp_dic[node] =  tmp_dic[node] + 1\n",
    "            else:\n",
    "                tmp_dic[node] = feature_dict[feat][2]\n",
    "                \n",
    "        else:\n",
    "            pass\n",
    "    tmp_edge = {}\n",
    "    for edge in edge_dict:\n",
    "        #print edge_dict[edge][0], edge_dict[edge][1]\n",
    "        acc_wei = accident_weight_btw_nodes(edge_dict[edge][0], edge_dict[edge][1], tmp_dic)\n",
    "        weight = ((feature_factor*acc_wei) + 1)*distance_btw_nodes(edge_dict[edge][0],edge_dict[edge][1],node_dic)\n",
    "        tmp_edge[edge] = edge_dict[edge][0], edge_dict[edge][1], weight\n",
    "    return tmp_edge\n",
    "#returns new edge function with weights \n",
    "#feature_factor = 0  ===no accident weightin\n",
    "#feature_factor === weight you put on the increased distances associated with accidents\n",
    "\n",
    "\n",
    "test_dic = make_weights(node_dic, edge_dic, acc_dic,5)\n"
   ]
  },
  {
   "cell_type": "code",
   "execution_count": 21,
   "metadata": {
    "collapsed": false
   },
   "outputs": [],
   "source": [
    "#Write out weights to sql\n",
    "cur.execute(\"\"\"\n",
    "CREATE TABLE bk_weights_5(\n",
    "    edgeid BIGINT NOT NULL,\n",
    "    node1 BIGINT NOT NULL,\n",
    "    node2 BIGINT NOT NULL,\n",
    "    weight FLOAT(12,8) NOT NULL,\n",
    "    PRIMARY KEY (edgeid)\n",
    "    )\n",
    "    \"\"\")\n",
    "\n",
    "add_edge= (\"INSERT INTO bk_weights_5 \"\n",
    "           \" (edgeid, node1, node2, weight)\"\n",
    "           \" VALUES (%s, %s,%s, %s)\")\n",
    "\n",
    "    \n",
    "for ed in test_dic:\n",
    "    edge_data = ed, test_dic[ed][0], test_dic[ed][1], test_dic[ed][2]\n",
    "    cur.execute(add_edge, edge_data)\n",
    "\n",
    "    "
   ]
  },
  {
   "cell_type": "code",
   "execution_count": 22,
   "metadata": {
    "collapsed": true
   },
   "outputs": [],
   "source": [
    "db_connect.commit()\n",
    "cur.close()\n",
    "db_connect.close()"
   ]
  },
  {
   "cell_type": "code",
   "execution_count": 93,
   "metadata": {
    "collapsed": false
   },
   "outputs": [],
   "source": [
    "def gen_network(node_dic, edge_dic):\n",
    "    G = nx.Graph()\n",
    "    for d in node_dic:\n",
    "        G.add_node(d)\n",
    "    for e in edge_dic:\n",
    "        G.add_edge(edge_dic[e][0],edge_dic[e][1],weight = edge_dic[e][2])\n",
    "\n",
    "    print 'NODES: ', G.number_of_nodes()\n",
    "    print 'EDGES: ', G.number_of_edges()\n",
    "    return G"
   ]
  },
  {
   "cell_type": "code",
   "execution_count": 94,
   "metadata": {
    "collapsed": false
   },
   "outputs": [
    {
     "name": "stdout",
     "output_type": "stream",
     "text": [
      "NODES:  2473\n",
      "EDGES:  3922\n"
     ]
    }
   ],
   "source": [
    "G = gen_network(node_dic, test_dic)"
   ]
  },
  {
   "cell_type": "code",
   "execution_count": 67,
   "metadata": {
    "collapsed": false
   },
   "outputs": [],
   "source": [
    "import matplotlib.pylab as plt\n",
    "nx.draw(G, node_dic)\n",
    "plt.show()"
   ]
  },
  {
   "cell_type": "code",
   "execution_count": 23,
   "metadata": {
    "collapsed": false
   },
   "outputs": [
    {
     "ename": "ProgrammingError",
     "evalue": "closing a closed connection",
     "output_type": "error",
     "traceback": [
      "\u001b[0;31m---------------------------------------------------------------------------\u001b[0m",
      "\u001b[0;31mProgrammingError\u001b[0m                          Traceback (most recent call last)",
      "\u001b[0;32m<ipython-input-23-f1dd7fa99135>\u001b[0m in \u001b[0;36m<module>\u001b[0;34m()\u001b[0m\n\u001b[1;32m      1\u001b[0m \u001b[0;31m#close database connection\u001b[0m\u001b[0;34m\u001b[0m\u001b[0;34m\u001b[0m\u001b[0m\n\u001b[1;32m      2\u001b[0m \u001b[0mcur\u001b[0m\u001b[0;34m.\u001b[0m\u001b[0mclose\u001b[0m\u001b[0;34m(\u001b[0m\u001b[0;34m)\u001b[0m\u001b[0;34m\u001b[0m\u001b[0m\n\u001b[0;32m----> 3\u001b[0;31m \u001b[0mdb_connect\u001b[0m\u001b[0;34m.\u001b[0m\u001b[0mclose\u001b[0m\u001b[0;34m(\u001b[0m\u001b[0;34m)\u001b[0m\u001b[0;34m\u001b[0m\u001b[0m\n\u001b[0m",
      "\u001b[0;31mProgrammingError\u001b[0m: closing a closed connection"
     ]
    }
   ],
   "source": [
    "#close database connection\n",
    "cur.close()\n",
    "db_connect.close()"
   ]
  },
  {
   "cell_type": "code",
   "execution_count": 74,
   "metadata": {
    "collapsed": false
   },
   "outputs": [
    {
     "data": {
      "text/plain": [
       "['42500046',\n",
       " '42492303',\n",
       " '42500048',\n",
       " '42500049',\n",
       " '42469621',\n",
       " '42467030',\n",
       " '42488439',\n",
       " '42470373',\n",
       " '42511697',\n",
       " '42504234',\n",
       " '42523739',\n",
       " '42523737',\n",
       " '42464861',\n",
       " '42490934',\n",
       " '42471617',\n",
       " '42470444',\n",
       " '42469250',\n",
       " '42491599',\n",
       " '42469253',\n",
       " '42491608',\n",
       " '1372888639',\n",
       " '1372888911',\n",
       " '1372888533',\n",
       " '1372888563',\n",
       " '1372888859',\n",
       " '1372888558']"
      ]
     },
     "execution_count": 74,
     "metadata": {},
     "output_type": "execute_result"
    }
   ],
   "source": [
    "start = nearest_node(40.6931, -73.9692)\n",
    "end = nearest_node(40.682, -73.980200)\n",
    "nx.has_path(G,start,end)\n",
    "nx.shortest_path(G,source = start, target = end, weight='weight')"
   ]
  },
  {
   "cell_type": "code",
   "execution_count": 77,
   "metadata": {
    "collapsed": false
   },
   "outputs": [],
   "source": [
    "path_nodes = nx.shortest_path(G,source = start, target = end, weight='weight')"
   ]
  },
  {
   "cell_type": "code",
   "execution_count": 60,
   "metadata": {
    "collapsed": false
   },
   "outputs": [
    {
     "data": {
      "text/plain": [
       "(40.691545, -73.968493)"
      ]
     },
     "execution_count": 60,
     "metadata": {},
     "output_type": "execute_result"
    }
   ],
   "source": []
  },
  {
   "cell_type": "code",
   "execution_count": 95,
   "metadata": {
    "collapsed": false
   },
   "outputs": [],
   "source": [
    "#plot_nodes_edges(node_dic,path_nodes)\n",
    "for d in node_dic:\n",
    "    plt.scatter(node_dic[d][0],node_dic[d][1])\n",
    "    \n",
    "\n",
    "node_list = []\n",
    "\n",
    "for w in path_nodes:\n",
    "    node_list.append(node_dic[w]) \n",
    "            \n",
    "    plt.plot(*zip(*node_list))\n",
    "plt.show()\n",
    "    "
   ]
  },
  {
   "cell_type": "code",
   "execution_count": null,
   "metadata": {
    "collapsed": true
   },
   "outputs": [],
   "source": []
  }
 ],
 "metadata": {
  "kernelspec": {
   "display_name": "Python 2",
   "language": "python",
   "name": "python2"
  },
  "language_info": {
   "codemirror_mode": {
    "name": "ipython",
    "version": 2
   },
   "file_extension": ".py",
   "mimetype": "text/x-python",
   "name": "python",
   "nbconvert_exporter": "python",
   "pygments_lexer": "ipython2",
   "version": "2.7.10"
  }
 },
 "nbformat": 4,
 "nbformat_minor": 0
}
