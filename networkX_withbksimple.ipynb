{
 "cells": [
  {
   "cell_type": "code",
   "execution_count": 31,
   "metadata": {
    "collapsed": true
   },
   "outputs": [],
   "source": [
    "import MySQLdb\n",
    "import node_edge_gen as neg\n",
    "import networkx as nx"
   ]
  },
  {
   "cell_type": "code",
   "execution_count": 32,
   "metadata": {
    "collapsed": false
   },
   "outputs": [],
   "source": [
    "#filename = 'map_extrasmall.osm'\n",
    "#int_string, ways, nodes = neg.extract_intersections(filename, verbose= False)\n",
    "#edges = ways_to_edge(ways)\n",
    "#neg.plot_nodes_edges(nodes,edges)\n",
    "\n",
    "#import from mySQL\n",
    "\n",
    "\n",
    "\n",
    "# DEFINE SQL LOG IN \n",
    "HOST = 'localhost'\n",
    "USER = 'root'\n",
    "PASSWD = ''\n",
    "DATABASE = 'bk_map'\n",
    "\n",
    "#CONNECT TO MySQL\n",
    "db_connect = MySQLdb.connect(\n",
    "    host = HOST,\n",
    "    user = USER,\n",
    "    passwd = PASSWD,\n",
    "    db = DATABASE)\n",
    "\n",
    "cur = db_connect.cursor()"
   ]
  },
  {
   "cell_type": "code",
   "execution_count": 33,
   "metadata": {
    "collapsed": true
   },
   "outputs": [],
   "source": [
    "import networkx as nx"
   ]
  },
  {
   "cell_type": "code",
   "execution_count": 34,
   "metadata": {
    "collapsed": false
   },
   "outputs": [],
   "source": [
    "#SQL graph into nx #MAKE THIS SMALLER BASED ON THE INPUT RANGE\n",
    "cur.execute('''SELECT nodeid, latitude, longitude FROM bk_nodes\n",
    "                ''')  \n",
    "nodes_sql = cur.fetchall()\n",
    "\n",
    "cur.execute('''SELECT edgeid, node1, node2 FROM bk_edges\n",
    "                ''')  \n",
    "edges_sql = cur.fetchall()\n",
    "\n",
    "#cursor.close()\n",
    "#db_connect.close()\n"
   ]
  },
  {
   "cell_type": "code",
   "execution_count": 35,
   "metadata": {
    "collapsed": false
   },
   "outputs": [
    {
     "name": "stdout",
     "output_type": "stream",
     "text": [
      "3951\n",
      "3951\n"
     ]
    }
   ],
   "source": [
    "#make dictionary for nodes and edges\n",
    "node_dic = {}\n",
    "for node in nodes_sql:\n",
    "    node_dic[node[0]] = node[1:] \n",
    "\n",
    "print len(edges_sql)\n",
    "edge_dic = {}\n",
    "count = 0\n",
    "for edge in edges_sql:\n",
    "    count += 1\n",
    "    edge_dic[edge[0]]= edge[1:]\n",
    "    \n",
    "print count"
   ]
  },
  {
   "cell_type": "code",
   "execution_count": 36,
   "metadata": {
    "collapsed": false
   },
   "outputs": [
    {
     "name": "stdout",
     "output_type": "stream",
     "text": [
      "nodes 2473\n",
      "edges 3951\n"
     ]
    }
   ],
   "source": [
    "print 'nodes', len(node_dic)\n",
    "print 'edges', len(edge_dic)"
   ]
  },
  {
   "cell_type": "code",
   "execution_count": 37,
   "metadata": {
    "collapsed": false
   },
   "outputs": [
    {
     "name": "stdout",
     "output_type": "stream",
     "text": [
      "2473 2473\n",
      "3951 3922\n"
     ]
    }
   ],
   "source": [
    "G = nx.Graph()\n",
    "n_count = 0\n",
    "for d in node_dic:\n",
    "    n_count += 1\n",
    "    G.add_node(d)\n",
    "e_count = 0\n",
    "for e in edge_dic:\n",
    "    e_count += 1\n",
    "    G.add_edge(edge_dic[e][0],edge_dic[e][1],weight = distance_btw_nodes(edge_dic[e][0],edge_dic[e][1],node_dic))\n",
    "\n",
    "print n_count, G.number_of_nodes()\n",
    "print e_count, G.number_of_edges()"
   ]
  },
  {
   "cell_type": "code",
   "execution_count": null,
   "metadata": {
    "collapsed": false
   },
   "outputs": [],
   "source": [
    "import matplotlib.pylab as plt\n",
    "nx.draw(G, node_dic)\n",
    "plt.show()\n",
    "\n",
    "def plot_nodes_edges(nodes,edges):\n",
    "    for d in nodes:\n",
    "        plt.scatter(nodes[d][0],nodes[d][1])\n",
    "    \n",
    "\n",
    "    for w in edges:\n",
    "        node_list = []\n",
    "\n",
    "        for i in edges[w]:\n",
    "            if i in nodes: \n",
    "                node_list.append(nodes[i]) \n",
    "            \n",
    "        plt.plot(*zip(*node_list))\n",
    "    plt.show()\n",
    "\n",
    "\n",
    "#plot_nodes_edges(node_dic, edge_dic)"
   ]
  },
  {
   "cell_type": "code",
   "execution_count": 38,
   "metadata": {
    "collapsed": false
   },
   "outputs": [],
   "source": [
    "from geopy.distance import great_circle\n",
    "from geopy.distance import vincenty"
   ]
  },
  {
   "cell_type": "code",
   "execution_count": 39,
   "metadata": {
    "collapsed": false
   },
   "outputs": [],
   "source": [
    "def nearest_node(lat_input, lon_input):\n",
    "    dis_near=0.05\n",
    "    find_nearby_nodes = ('''SELECT nodeid, latitude, longitude FROM bk_nodes \n",
    "                WHERE latitude BETWEEN %s AND %s\n",
    "                AND longitude BETWEEN %s AND %s\n",
    "                ''')\n",
    "    node_range = (lat_input-dis_near, lat_input+dis_near, lon_input-dis_near, lon_input+dis_near)\n",
    "\n",
    "    cur.execute(find_nearby_nodes,node_range)  \n",
    "    rows = cur.fetchall()\n",
    "    if len(rows) == 0:\n",
    "        return 'NULL'\n",
    "    #for row in rows:\n",
    "    else:\n",
    "        dist = [rows[0][0],great_circle((lat_input,lon_input),rows[0][1:3]).miles ]\n",
    "        for row in rows[1:]:\n",
    "            node_dist =  great_circle((lat_input,lon_input),row[1:3]).miles\n",
    "            if dist[1] > node_dist:\n",
    "                dist = [row[0],node_dist]\n",
    "        return dist[0]"
   ]
  },
  {
   "cell_type": "code",
   "execution_count": 40,
   "metadata": {
    "collapsed": false
   },
   "outputs": [],
   "source": [
    "start = nearest_node(40.6868, -73.9824)"
   ]
  },
  {
   "cell_type": "code",
   "execution_count": 41,
   "metadata": {
    "collapsed": false
   },
   "outputs": [],
   "source": [
    "end = nearest_node(40.6848, -73.9918)"
   ]
  },
  {
   "cell_type": "code",
   "execution_count": 42,
   "metadata": {
    "collapsed": false
   },
   "outputs": [
    {
     "data": {
      "text/plain": [
       "True"
      ]
     },
     "execution_count": 42,
     "metadata": {},
     "output_type": "execute_result"
    }
   ],
   "source": [
    "nx.has_path(G,start,end)"
   ]
  },
  {
   "cell_type": "code",
   "execution_count": null,
   "metadata": {
    "collapsed": false
   },
   "outputs": [],
   "source": [
    "cur.close()\n",
    "db_connect.close()"
   ]
  },
  {
   "cell_type": "code",
   "execution_count": null,
   "metadata": {
    "collapsed": false
   },
   "outputs": [],
   "source": [
    "nx.shortest_path(G,source = start, target = end, weight='yes')"
   ]
  },
  {
   "cell_type": "code",
   "execution_count": null,
   "metadata": {
    "collapsed": false
   },
   "outputs": [],
   "source": [
    "nx.dijkstra_path(G,start,end)"
   ]
  },
  {
   "cell_type": "code",
   "execution_count": null,
   "metadata": {
    "collapsed": true
   },
   "outputs": [],
   "source": [
    "def distance_btw_nodes(node1,node2,node_dic):\n",
    "    return great_circle(node_dic[node1], node_dic[node2]).miles"
   ]
  },
  {
   "cell_type": "code",
   "execution_count": null,
   "metadata": {
    "collapsed": false
   },
   "outputs": [],
   "source": [
    "print distance_btw_nodes('42517476','42466447',node_dic)"
   ]
  },
  {
   "cell_type": "code",
   "execution_count": null,
   "metadata": {
    "collapsed": false
   },
   "outputs": [],
   "source": []
  },
  {
   "cell_type": "code",
   "execution_count": null,
   "metadata": {
    "collapsed": true
   },
   "outputs": [],
   "source": []
  }
 ],
 "metadata": {
  "kernelspec": {
   "display_name": "Python 2",
   "language": "python",
   "name": "python2"
  },
  "language_info": {
   "codemirror_mode": {
    "name": "ipython",
    "version": 2
   },
   "file_extension": ".py",
   "mimetype": "text/x-python",
   "name": "python",
   "nbconvert_exporter": "python",
   "pygments_lexer": "ipython2",
   "version": "2.7.10"
  }
 },
 "nbformat": 4,
 "nbformat_minor": 0
}
