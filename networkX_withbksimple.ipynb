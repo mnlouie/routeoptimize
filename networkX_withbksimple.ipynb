{
 "cells": [
  {
   "cell_type": "code",
   "execution_count": 3,
   "metadata": {
    "collapsed": true
   },
   "outputs": [],
   "source": [
    "#import bk data\n",
    "try:\n",
    "    from xml.etree import cElementTree as ET\n",
    "except ImportError, e:\n",
    "    from xml.etree import ElementTree as ET\n",
    "\n",
    "\n",
    "def extract_intersections(osm, verbose=True):\n",
    "    # This function takes an osm file as an input. It then goes through each xml \n",
    "    # element and searches for nodes that are shared by two or more ways.\n",
    "    # Parameter:\n",
    "    # - osm: An xml file that contains OpenStreetMap's map information\n",
    "    # - verbose: If true, print some outputs to terminal.\n",
    "    # \n",
    "    # Ex) extract_intersections('WashingtonDC.osm')\n",
    "    #\n",
    "    tree = ET.parse(osm)\n",
    "    root = tree.getroot()\n",
    "    counter = {}\n",
    "    way_counter = {}\n",
    "    node_intersections = {}\n",
    "    for child in root:\n",
    "        if child.tag == 'way':\n",
    "            hwstat = False\n",
    "            way_node = []\n",
    "            #while hwstat == False:\n",
    "            for item in child:\n",
    "                if item.tag == 'tag' and item.attrib['k'] == 'highway':\n",
    "                    way_id = child.attrib['id']\n",
    "               #     way_name = item.attrib['v'] pull some name data to save later!\n",
    "                    hwstat = True\n",
    "            if hwstat == True:\n",
    "                for item in child:\n",
    "                    if item.tag == 'nd':\n",
    "                        nd_ref = item.attrib['ref']\n",
    "                        way_node.append(nd_ref)\n",
    "                        if not nd_ref in counter:\n",
    "                            counter[nd_ref] = 0\n",
    "                        counter[nd_ref] += 1\n",
    "                        #way_counter[way_id] = []\n",
    "                way_counter[way_id] = way_node\n",
    "            else:\n",
    "                hwstat = False\n",
    "    # Find nodes that are shared with more than one way, which\n",
    "    # might correspond to intersections\n",
    "    intersections = filter(lambda x: counter[x] > 1,  counter)\n",
    "\n",
    "    # Extract intersection coordinates\n",
    "    # You can plot the result using this url.\n",
    "    # http://www.darrinward.com/lat-long/\n",
    "    intersection_coordinates = []\n",
    "    for child in root:\n",
    "        if child.tag == 'node' and child.attrib['id'] in intersections:\n",
    "            coordinate = child.attrib['lat'] + ',' + child.attrib['lon']\n",
    "            if verbose:\n",
    "                print coordinate\n",
    "            intersection_coordinates.append(coordinate)\n",
    "            node_intersections[child.attrib['id']] = (child.attrib['lat'], child.attrib['lon'])\n",
    "\n",
    "    return intersection_coordinates, way_counter, node_intersections"
   ]
  },
  {
   "cell_type": "code",
   "execution_count": 4,
   "metadata": {
    "collapsed": true
   },
   "outputs": [],
   "source": [
    "filename = 'map_extrasmall.osm'\n",
    "int_string, ways, nodes = extract_intersections(filename, verbose= False)\n"
   ]
  },
  {
   "cell_type": "code",
   "execution_count": 1,
   "metadata": {
    "collapsed": true
   },
   "outputs": [],
   "source": [
    "import networkx as nx"
   ]
  },
  {
   "cell_type": "code",
   "execution_count": 2,
   "metadata": {
    "collapsed": true
   },
   "outputs": [],
   "source": [
    "G = nx.Graph()"
   ]
  },
  {
   "cell_type": "code",
   "execution_count": 5,
   "metadata": {
    "collapsed": true
   },
   "outputs": [],
   "source": [
    "for d in nodes:\n",
    "    G.add_node(d)"
   ]
  },
  {
   "cell_type": "code",
   "execution_count": 9,
   "metadata": {
    "collapsed": false
   },
   "outputs": [
    {
     "data": {
      "text/plain": [
       "217"
      ]
     },
     "execution_count": 9,
     "metadata": {},
     "output_type": "execute_result"
    }
   ],
   "source": [
    "#G.nodes()\n",
    "G.number_of_nodes()"
   ]
  },
  {
   "cell_type": "code",
   "execution_count": 10,
   "metadata": {
    "collapsed": true
   },
   "outputs": [],
   "source": [
    "ways2 = {}\n",
    "for w in ways:\n",
    "    num_el = len(ways[w])\n",
    "    if num_el == 2:\n",
    "        ways2[w]=ways[w]\n",
    "    elif num_el > 2:\n",
    "        for j in range(0,num_el-1):\n",
    "            \n",
    "            new_list= [ways[w][j], ways[w][j+1]]\n",
    "            ways2[w+str(j)] = new_list\n",
    "            "
   ]
  },
  {
   "cell_type": "code",
   "execution_count": 17,
   "metadata": {
    "collapsed": false
   },
   "outputs": [],
   "source": [
    "\n",
    "for w in ways2:\n",
    "    G.add_edge(ways2[w][0],ways2[w][1])"
   ]
  },
  {
   "cell_type": "code",
   "execution_count": 19,
   "metadata": {
    "collapsed": false
   },
   "outputs": [],
   "source": [
    "import matplotlib.pylab as plt\n"
   ]
  },
  {
   "cell_type": "code",
   "execution_count": 22,
   "metadata": {
    "collapsed": true
   },
   "outputs": [],
   "source": [
    "nx.draw(G)\n",
    "plt.show()"
   ]
  },
  {
   "cell_type": "code",
   "execution_count": 50,
   "metadata": {
    "collapsed": false
   },
   "outputs": [],
   "source": [
    "from geopy.distance import great_circle\n",
    "from geopy.distance import vincenty"
   ]
  },
  {
   "cell_type": "code",
   "execution_count": 51,
   "metadata": {
    "collapsed": false
   },
   "outputs": [
    {
     "name": "stdout",
     "output_type": "stream",
     "text": [
      "0.0216576132347\n",
      "0.021706555656\n"
     ]
    }
   ],
   "source": [
    "node1 = nodes['42461596']\n",
    "node2 = nodes['42461598']\n",
    "#node2 = nodes[ways2['1073911040'][1]]\n",
    "#print node1, node2\n",
    "print great_circle(node1, node2).miles\n",
    "print vincenty(node1,node2).miles"
   ]
  },
  {
   "cell_type": "code",
   "execution_count": 54,
   "metadata": {
    "collapsed": false
   },
   "outputs": [
    {
     "name": "stdout",
     "output_type": "stream",
     "text": [
      "0.0734910113786\n"
     ]
    },
    {
     "ename": "KeyError",
     "evalue": "'275057630'",
     "output_type": "error",
     "traceback": [
      "\u001b[0;31m---------------------------------------------------------------------------\u001b[0m",
      "\u001b[0;31mKeyError\u001b[0m                                  Traceback (most recent call last)",
      "\u001b[0;32m<ipython-input-54-b99f5a9d726b>\u001b[0m in \u001b[0;36m<module>\u001b[0;34m()\u001b[0m\n\u001b[1;32m      1\u001b[0m \u001b[0;31m#determining weights\u001b[0m\u001b[0;34m\u001b[0m\u001b[0;34m\u001b[0m\u001b[0m\n\u001b[1;32m      2\u001b[0m \u001b[0;32mfor\u001b[0m \u001b[0mw\u001b[0m \u001b[0;32min\u001b[0m \u001b[0mways2\u001b[0m\u001b[0;34m:\u001b[0m\u001b[0;34m\u001b[0m\u001b[0m\n\u001b[0;32m----> 3\u001b[0;31m     \u001b[0;32mprint\u001b[0m \u001b[0mgreat_circle\u001b[0m\u001b[0;34m(\u001b[0m\u001b[0mnodes\u001b[0m\u001b[0;34m[\u001b[0m\u001b[0mways2\u001b[0m\u001b[0;34m[\u001b[0m\u001b[0mw\u001b[0m\u001b[0;34m]\u001b[0m\u001b[0;34m[\u001b[0m\u001b[0;36m0\u001b[0m\u001b[0;34m]\u001b[0m\u001b[0;34m]\u001b[0m\u001b[0;34m,\u001b[0m\u001b[0mnodes\u001b[0m\u001b[0;34m[\u001b[0m\u001b[0mways2\u001b[0m\u001b[0;34m[\u001b[0m\u001b[0mw\u001b[0m\u001b[0;34m]\u001b[0m\u001b[0;34m[\u001b[0m\u001b[0;36m1\u001b[0m\u001b[0;34m]\u001b[0m\u001b[0;34m]\u001b[0m\u001b[0;34m)\u001b[0m\u001b[0;34m.\u001b[0m\u001b[0mmiles\u001b[0m\u001b[0;34m\u001b[0m\u001b[0m\n\u001b[0m",
      "\u001b[0;31mKeyError\u001b[0m: '275057630'"
     ]
    }
   ],
   "source": [
    "#determining weights\n",
    "for w in ways2:\n",
    "    print great_circle(nodes[ways2[w][0]],nodes[ways2[w][1]]).miles"
   ]
  },
  {
   "cell_type": "code",
   "execution_count": null,
   "metadata": {
    "collapsed": true
   },
   "outputs": [],
   "source": []
  }
 ],
 "metadata": {
  "kernelspec": {
   "display_name": "Python 2",
   "language": "python",
   "name": "python2"
  },
  "language_info": {
   "codemirror_mode": {
    "name": "ipython",
    "version": 2
   },
   "file_extension": ".py",
   "mimetype": "text/x-python",
   "name": "python",
   "nbconvert_exporter": "python",
   "pygments_lexer": "ipython2",
   "version": "2.7.10"
  }
 },
 "nbformat": 4,
 "nbformat_minor": 0
}
